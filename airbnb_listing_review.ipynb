{
 "cells": [
  {
   "cell_type": "code",
   "execution_count": 1,
   "id": "b2309e68",
   "metadata": {},
   "outputs": [],
   "source": [
    "#import kagglehub\n",
    "\n",
    "# Download latest version\n",
    "#path = kagglehub.dataset_download(\"mysarahmadbhat/airbnb-listings-reviews\")\n",
    "\n",
    "#print(\"Path to dataset files:\", path)"
   ]
  },
  {
   "cell_type": "code",
   "execution_count": 2,
   "id": "b76aaad0",
   "metadata": {},
   "outputs": [],
   "source": [
    "import numpy as np\n",
    "import pandas as pd\n",
    "import matplotlib.pyplot as plt\n",
    "import seaborn as sns\n",
    "\n",
    "sns.set(style='whitegrid', palette='pastel')\n",
    "plt.rcParams['figure.figsize'] = (12,6)"
   ]
  },
  {
   "cell_type": "code",
   "execution_count": 3,
   "id": "6c23182c",
   "metadata": {},
   "outputs": [
    {
     "name": "stderr",
     "output_type": "stream",
     "text": [
      "<>:3: SyntaxWarning: invalid escape sequence '\\P'\n",
      "<>:4: SyntaxWarning: invalid escape sequence '\\P'\n",
      "<>:3: SyntaxWarning: invalid escape sequence '\\P'\n",
      "<>:4: SyntaxWarning: invalid escape sequence '\\P'\n",
      "C:\\Users\\USER\\AppData\\Local\\Temp\\ipykernel_9564\\2254346896.py:3: SyntaxWarning: invalid escape sequence '\\P'\n",
      "  listings = pd.read_csv('E:\\Projects\\Airbnb_Lisitings & Reviews\\Airbnb-Listing-Review\\Airbnb Data\\Listings.csv', encoding='latin1', low_memory=False)\n",
      "C:\\Users\\USER\\AppData\\Local\\Temp\\ipykernel_9564\\2254346896.py:4: SyntaxWarning: invalid escape sequence '\\P'\n",
      "  reviews = pd.read_csv('E:\\Projects\\Airbnb_Lisitings & Reviews\\Airbnb-Listing-Review\\Airbnb Data\\Reviews.csv')\n"
     ]
    }
   ],
   "source": [
    "#LOAD DATASET\n",
    "\n",
    "listings = pd.read_csv('E:\\Projects\\Airbnb_Lisitings & Reviews\\Airbnb-Listing-Review\\Airbnb Data\\Listings.csv', encoding='latin1', low_memory=False)\n",
    "reviews = pd.read_csv('E:\\Projects\\Airbnb_Lisitings & Reviews\\Airbnb-Listing-Review\\Airbnb Data\\Reviews.csv')"
   ]
  },
  {
   "cell_type": "code",
   "execution_count": 4,
   "id": "6f9d0593",
   "metadata": {},
   "outputs": [],
   "source": [
    "#DATA CLEANING\n",
    "\n",
    "#Standardize column names\n",
    "\n",
    "listings.columns = listings.columns.str.strip().str.lower().str.replace(' ', '_')\n",
    "reviews.columns = reviews.columns.str.strip().str.lower().str.replace(' ', '_')"
   ]
  },
  {
   "cell_type": "code",
   "execution_count": 5,
   "id": "dce916b3",
   "metadata": {},
   "outputs": [],
   "source": [
    "#Parse date columns\n",
    "reviews['date'] = pd.to_datetime(reviews['date'])"
   ]
  },
  {
   "cell_type": "code",
   "execution_count": 6,
   "id": "836e63d8",
   "metadata": {},
   "outputs": [],
   "source": [
    "#Add last_review to listings\n",
    "\n",
    "last_review = reviews.groupby('listing_id')['date'].max().reset_index()\n",
    "last_review.rename(columns={'date': 'last_review'}, inplace=True)\n",
    "listings = listings.merge(last_review, on='listing_id', how='left')"
   ]
  },
  {
   "cell_type": "code",
   "execution_count": 7,
   "id": "8122289a",
   "metadata": {},
   "outputs": [
    {
     "name": "stdout",
     "output_type": "stream",
     "text": [
      "Listing shape (279712, 34)\n",
      "Reviews shape (5373143, 4)\n"
     ]
    }
   ],
   "source": [
    "#Basic Overview\n",
    "\n",
    "print('Listing shape', listings.shape)\n",
    "print('Reviews shape', reviews.shape)"
   ]
  },
  {
   "cell_type": "code",
   "execution_count": 8,
   "id": "330e1be6",
   "metadata": {},
   "outputs": [
    {
     "data": {
      "text/html": [
       "<div>\n",
       "<style scoped>\n",
       "    .dataframe tbody tr th:only-of-type {\n",
       "        vertical-align: middle;\n",
       "    }\n",
       "\n",
       "    .dataframe tbody tr th {\n",
       "        vertical-align: top;\n",
       "    }\n",
       "\n",
       "    .dataframe thead th {\n",
       "        text-align: right;\n",
       "    }\n",
       "</style>\n",
       "<table border=\"1\" class=\"dataframe\">\n",
       "  <thead>\n",
       "    <tr style=\"text-align: right;\">\n",
       "      <th></th>\n",
       "      <th>listing_id</th>\n",
       "      <th>name</th>\n",
       "      <th>host_id</th>\n",
       "      <th>host_since</th>\n",
       "      <th>host_location</th>\n",
       "      <th>host_response_time</th>\n",
       "      <th>host_response_rate</th>\n",
       "      <th>host_acceptance_rate</th>\n",
       "      <th>host_is_superhost</th>\n",
       "      <th>host_total_listings_count</th>\n",
       "      <th>...</th>\n",
       "      <th>maximum_nights</th>\n",
       "      <th>review_scores_rating</th>\n",
       "      <th>review_scores_accuracy</th>\n",
       "      <th>review_scores_cleanliness</th>\n",
       "      <th>review_scores_checkin</th>\n",
       "      <th>review_scores_communication</th>\n",
       "      <th>review_scores_location</th>\n",
       "      <th>review_scores_value</th>\n",
       "      <th>instant_bookable</th>\n",
       "      <th>last_review</th>\n",
       "    </tr>\n",
       "  </thead>\n",
       "  <tbody>\n",
       "    <tr>\n",
       "      <th>0</th>\n",
       "      <td>281420</td>\n",
       "      <td>Beautiful Flat in le Village Montmartre, Paris</td>\n",
       "      <td>1466919</td>\n",
       "      <td>2011-12-03</td>\n",
       "      <td>Paris, Ile-de-France, France</td>\n",
       "      <td>NaN</td>\n",
       "      <td>NaN</td>\n",
       "      <td>NaN</td>\n",
       "      <td>f</td>\n",
       "      <td>1.0</td>\n",
       "      <td>...</td>\n",
       "      <td>1125</td>\n",
       "      <td>100.0</td>\n",
       "      <td>10.0</td>\n",
       "      <td>10.0</td>\n",
       "      <td>10.0</td>\n",
       "      <td>10.0</td>\n",
       "      <td>10.0</td>\n",
       "      <td>10.0</td>\n",
       "      <td>f</td>\n",
       "      <td>2017-07-23</td>\n",
       "    </tr>\n",
       "    <tr>\n",
       "      <th>1</th>\n",
       "      <td>3705183</td>\n",
       "      <td>39 mÃÂ² Paris (Sacre CÃâur)</td>\n",
       "      <td>10328771</td>\n",
       "      <td>2013-11-29</td>\n",
       "      <td>Paris, Ile-de-France, France</td>\n",
       "      <td>NaN</td>\n",
       "      <td>NaN</td>\n",
       "      <td>NaN</td>\n",
       "      <td>f</td>\n",
       "      <td>1.0</td>\n",
       "      <td>...</td>\n",
       "      <td>1125</td>\n",
       "      <td>100.0</td>\n",
       "      <td>10.0</td>\n",
       "      <td>10.0</td>\n",
       "      <td>10.0</td>\n",
       "      <td>10.0</td>\n",
       "      <td>10.0</td>\n",
       "      <td>10.0</td>\n",
       "      <td>f</td>\n",
       "      <td>2016-05-08</td>\n",
       "    </tr>\n",
       "    <tr>\n",
       "      <th>2</th>\n",
       "      <td>4082273</td>\n",
       "      <td>Lovely apartment with Terrace, 60m2</td>\n",
       "      <td>19252768</td>\n",
       "      <td>2014-07-31</td>\n",
       "      <td>Paris, Ile-de-France, France</td>\n",
       "      <td>NaN</td>\n",
       "      <td>NaN</td>\n",
       "      <td>NaN</td>\n",
       "      <td>f</td>\n",
       "      <td>1.0</td>\n",
       "      <td>...</td>\n",
       "      <td>1125</td>\n",
       "      <td>100.0</td>\n",
       "      <td>10.0</td>\n",
       "      <td>10.0</td>\n",
       "      <td>10.0</td>\n",
       "      <td>10.0</td>\n",
       "      <td>10.0</td>\n",
       "      <td>10.0</td>\n",
       "      <td>f</td>\n",
       "      <td>2015-07-01</td>\n",
       "    </tr>\n",
       "    <tr>\n",
       "      <th>3</th>\n",
       "      <td>4797344</td>\n",
       "      <td>Cosy studio (close to Eiffel tower)</td>\n",
       "      <td>10668311</td>\n",
       "      <td>2013-12-17</td>\n",
       "      <td>Paris, Ile-de-France, France</td>\n",
       "      <td>NaN</td>\n",
       "      <td>NaN</td>\n",
       "      <td>NaN</td>\n",
       "      <td>f</td>\n",
       "      <td>1.0</td>\n",
       "      <td>...</td>\n",
       "      <td>1125</td>\n",
       "      <td>100.0</td>\n",
       "      <td>10.0</td>\n",
       "      <td>10.0</td>\n",
       "      <td>10.0</td>\n",
       "      <td>10.0</td>\n",
       "      <td>10.0</td>\n",
       "      <td>10.0</td>\n",
       "      <td>f</td>\n",
       "      <td>2015-01-04</td>\n",
       "    </tr>\n",
       "    <tr>\n",
       "      <th>4</th>\n",
       "      <td>4823489</td>\n",
       "      <td>Close to Eiffel Tower - Beautiful flat : 2 rooms</td>\n",
       "      <td>24837558</td>\n",
       "      <td>2014-12-14</td>\n",
       "      <td>Paris, Ile-de-France, France</td>\n",
       "      <td>NaN</td>\n",
       "      <td>NaN</td>\n",
       "      <td>NaN</td>\n",
       "      <td>f</td>\n",
       "      <td>1.0</td>\n",
       "      <td>...</td>\n",
       "      <td>1125</td>\n",
       "      <td>100.0</td>\n",
       "      <td>10.0</td>\n",
       "      <td>10.0</td>\n",
       "      <td>10.0</td>\n",
       "      <td>10.0</td>\n",
       "      <td>10.0</td>\n",
       "      <td>10.0</td>\n",
       "      <td>f</td>\n",
       "      <td>2017-05-21</td>\n",
       "    </tr>\n",
       "  </tbody>\n",
       "</table>\n",
       "<p>5 rows × 34 columns</p>\n",
       "</div>"
      ],
      "text/plain": [
       "   listing_id                                              name   host_id  \\\n",
       "0      281420    Beautiful Flat in le Village Montmartre, Paris   1466919   \n",
       "1     3705183                   39 mÃÂ² Paris (Sacre CÃ\n",
       "âur)  10328771   \n",
       "2     4082273               Lovely apartment with Terrace, 60m2  19252768   \n",
       "3     4797344               Cosy studio (close to Eiffel tower)  10668311   \n",
       "4     4823489  Close to Eiffel Tower - Beautiful flat : 2 rooms  24837558   \n",
       "\n",
       "   host_since                 host_location host_response_time  \\\n",
       "0  2011-12-03  Paris, Ile-de-France, France                NaN   \n",
       "1  2013-11-29  Paris, Ile-de-France, France                NaN   \n",
       "2  2014-07-31  Paris, Ile-de-France, France                NaN   \n",
       "3  2013-12-17  Paris, Ile-de-France, France                NaN   \n",
       "4  2014-12-14  Paris, Ile-de-France, France                NaN   \n",
       "\n",
       "   host_response_rate  host_acceptance_rate host_is_superhost  \\\n",
       "0                 NaN                   NaN                 f   \n",
       "1                 NaN                   NaN                 f   \n",
       "2                 NaN                   NaN                 f   \n",
       "3                 NaN                   NaN                 f   \n",
       "4                 NaN                   NaN                 f   \n",
       "\n",
       "   host_total_listings_count  ... maximum_nights review_scores_rating  \\\n",
       "0                        1.0  ...           1125                100.0   \n",
       "1                        1.0  ...           1125                100.0   \n",
       "2                        1.0  ...           1125                100.0   \n",
       "3                        1.0  ...           1125                100.0   \n",
       "4                        1.0  ...           1125                100.0   \n",
       "\n",
       "  review_scores_accuracy review_scores_cleanliness review_scores_checkin  \\\n",
       "0                   10.0                      10.0                  10.0   \n",
       "1                   10.0                      10.0                  10.0   \n",
       "2                   10.0                      10.0                  10.0   \n",
       "3                   10.0                      10.0                  10.0   \n",
       "4                   10.0                      10.0                  10.0   \n",
       "\n",
       "   review_scores_communication  review_scores_location review_scores_value  \\\n",
       "0                         10.0                    10.0                10.0   \n",
       "1                         10.0                    10.0                10.0   \n",
       "2                         10.0                    10.0                10.0   \n",
       "3                         10.0                    10.0                10.0   \n",
       "4                         10.0                    10.0                10.0   \n",
       "\n",
       "  instant_bookable  last_review  \n",
       "0                f   2017-07-23  \n",
       "1                f   2016-05-08  \n",
       "2                f   2015-07-01  \n",
       "3                f   2015-01-04  \n",
       "4                f   2017-05-21  \n",
       "\n",
       "[5 rows x 34 columns]"
      ]
     },
     "execution_count": 8,
     "metadata": {},
     "output_type": "execute_result"
    }
   ],
   "source": [
    "listings.head()"
   ]
  },
  {
   "cell_type": "code",
   "execution_count": 9,
   "id": "83159705",
   "metadata": {},
   "outputs": [
    {
     "name": "stdout",
     "output_type": "stream",
     "text": [
      "<class 'pandas.core.frame.DataFrame'>\n",
      "RangeIndex: 279712 entries, 0 to 279711\n",
      "Data columns (total 34 columns):\n",
      " #   Column                       Non-Null Count   Dtype         \n",
      "---  ------                       --------------   -----         \n",
      " 0   listing_id                   279712 non-null  int64         \n",
      " 1   name                         279537 non-null  object        \n",
      " 2   host_id                      279712 non-null  int64         \n",
      " 3   host_since                   279547 non-null  object        \n",
      " 4   host_location                278872 non-null  object        \n",
      " 5   host_response_time           150930 non-null  object        \n",
      " 6   host_response_rate           150930 non-null  float64       \n",
      " 7   host_acceptance_rate         166625 non-null  float64       \n",
      " 8   host_is_superhost            279547 non-null  object        \n",
      " 9   host_total_listings_count    279547 non-null  float64       \n",
      " 10  host_has_profile_pic         279547 non-null  object        \n",
      " 11  host_identity_verified       279547 non-null  object        \n",
      " 12  neighbourhood                279712 non-null  object        \n",
      " 13  district                     37012 non-null   object        \n",
      " 14  city                         279712 non-null  object        \n",
      " 15  latitude                     279712 non-null  float64       \n",
      " 16  longitude                    279712 non-null  float64       \n",
      " 17  property_type                279712 non-null  object        \n",
      " 18  room_type                    279712 non-null  object        \n",
      " 19  accommodates                 279712 non-null  int64         \n",
      " 20  bedrooms                     250277 non-null  float64       \n",
      " 21  amenities                    279712 non-null  object        \n",
      " 22  price                        279712 non-null  int64         \n",
      " 23  minimum_nights               279712 non-null  int64         \n",
      " 24  maximum_nights               279712 non-null  int64         \n",
      " 25  review_scores_rating         188307 non-null  float64       \n",
      " 26  review_scores_accuracy       187999 non-null  float64       \n",
      " 27  review_scores_cleanliness    188047 non-null  float64       \n",
      " 28  review_scores_checkin        187941 non-null  float64       \n",
      " 29  review_scores_communication  188025 non-null  float64       \n",
      " 30  review_scores_location       187937 non-null  float64       \n",
      " 31  review_scores_value          187927 non-null  float64       \n",
      " 32  instant_bookable             279712 non-null  object        \n",
      " 33  last_review                  193556 non-null  datetime64[ns]\n",
      "dtypes: datetime64[ns](1), float64(13), int64(6), object(14)\n",
      "memory usage: 72.6+ MB\n"
     ]
    }
   ],
   "source": [
    "listings.info()"
   ]
  },
  {
   "cell_type": "code",
   "execution_count": 10,
   "id": "b335b3cc",
   "metadata": {},
   "outputs": [
    {
     "data": {
      "text/html": [
       "<div>\n",
       "<style scoped>\n",
       "    .dataframe tbody tr th:only-of-type {\n",
       "        vertical-align: middle;\n",
       "    }\n",
       "\n",
       "    .dataframe tbody tr th {\n",
       "        vertical-align: top;\n",
       "    }\n",
       "\n",
       "    .dataframe thead th {\n",
       "        text-align: right;\n",
       "    }\n",
       "</style>\n",
       "<table border=\"1\" class=\"dataframe\">\n",
       "  <thead>\n",
       "    <tr style=\"text-align: right;\">\n",
       "      <th></th>\n",
       "      <th>count</th>\n",
       "      <th>unique</th>\n",
       "      <th>top</th>\n",
       "      <th>freq</th>\n",
       "      <th>mean</th>\n",
       "      <th>min</th>\n",
       "      <th>25%</th>\n",
       "      <th>50%</th>\n",
       "      <th>75%</th>\n",
       "      <th>max</th>\n",
       "      <th>std</th>\n",
       "    </tr>\n",
       "  </thead>\n",
       "  <tbody>\n",
       "    <tr>\n",
       "      <th>listing_id</th>\n",
       "      <td>279712.0</td>\n",
       "      <td>NaN</td>\n",
       "      <td>NaN</td>\n",
       "      <td>NaN</td>\n",
       "      <td>26381955.489825</td>\n",
       "      <td>2577.0</td>\n",
       "      <td>13844618.75</td>\n",
       "      <td>27670985.0</td>\n",
       "      <td>39784850.75</td>\n",
       "      <td>48343530.0</td>\n",
       "      <td>14425758.688779</td>\n",
       "    </tr>\n",
       "    <tr>\n",
       "      <th>name</th>\n",
       "      <td>279537</td>\n",
       "      <td>265860</td>\n",
       "      <td>home away from home</td>\n",
       "      <td>98</td>\n",
       "      <td>NaN</td>\n",
       "      <td>NaN</td>\n",
       "      <td>NaN</td>\n",
       "      <td>NaN</td>\n",
       "      <td>NaN</td>\n",
       "      <td>NaN</td>\n",
       "      <td>NaN</td>\n",
       "    </tr>\n",
       "    <tr>\n",
       "      <th>host_id</th>\n",
       "      <td>279712.0</td>\n",
       "      <td>NaN</td>\n",
       "      <td>NaN</td>\n",
       "      <td>NaN</td>\n",
       "      <td>108165773.085531</td>\n",
       "      <td>1822.0</td>\n",
       "      <td>17206558.0</td>\n",
       "      <td>58269113.5</td>\n",
       "      <td>183285318.75</td>\n",
       "      <td>390187445.0</td>\n",
       "      <td>110856993.215897</td>\n",
       "    </tr>\n",
       "    <tr>\n",
       "      <th>host_since</th>\n",
       "      <td>279547</td>\n",
       "      <td>4240</td>\n",
       "      <td>2019-09-02</td>\n",
       "      <td>710</td>\n",
       "      <td>NaN</td>\n",
       "      <td>NaN</td>\n",
       "      <td>NaN</td>\n",
       "      <td>NaN</td>\n",
       "      <td>NaN</td>\n",
       "      <td>NaN</td>\n",
       "      <td>NaN</td>\n",
       "    </tr>\n",
       "    <tr>\n",
       "      <th>host_location</th>\n",
       "      <td>278872</td>\n",
       "      <td>7159</td>\n",
       "      <td>Paris, Ile-de-France, France</td>\n",
       "      <td>47794</td>\n",
       "      <td>NaN</td>\n",
       "      <td>NaN</td>\n",
       "      <td>NaN</td>\n",
       "      <td>NaN</td>\n",
       "      <td>NaN</td>\n",
       "      <td>NaN</td>\n",
       "      <td>NaN</td>\n",
       "    </tr>\n",
       "    <tr>\n",
       "      <th>host_response_time</th>\n",
       "      <td>150930</td>\n",
       "      <td>4</td>\n",
       "      <td>within an hour</td>\n",
       "      <td>83464</td>\n",
       "      <td>NaN</td>\n",
       "      <td>NaN</td>\n",
       "      <td>NaN</td>\n",
       "      <td>NaN</td>\n",
       "      <td>NaN</td>\n",
       "      <td>NaN</td>\n",
       "      <td>NaN</td>\n",
       "    </tr>\n",
       "    <tr>\n",
       "      <th>host_response_rate</th>\n",
       "      <td>150930.0</td>\n",
       "      <td>NaN</td>\n",
       "      <td>NaN</td>\n",
       "      <td>NaN</td>\n",
       "      <td>0.865939</td>\n",
       "      <td>0.0</td>\n",
       "      <td>0.9</td>\n",
       "      <td>1.0</td>\n",
       "      <td>1.0</td>\n",
       "      <td>1.0</td>\n",
       "      <td>0.283744</td>\n",
       "    </tr>\n",
       "    <tr>\n",
       "      <th>host_acceptance_rate</th>\n",
       "      <td>166625.0</td>\n",
       "      <td>NaN</td>\n",
       "      <td>NaN</td>\n",
       "      <td>NaN</td>\n",
       "      <td>0.827168</td>\n",
       "      <td>0.0</td>\n",
       "      <td>0.78</td>\n",
       "      <td>0.98</td>\n",
       "      <td>1.0</td>\n",
       "      <td>1.0</td>\n",
       "      <td>0.289202</td>\n",
       "    </tr>\n",
       "    <tr>\n",
       "      <th>host_is_superhost</th>\n",
       "      <td>279547</td>\n",
       "      <td>2</td>\n",
       "      <td>f</td>\n",
       "      <td>229294</td>\n",
       "      <td>NaN</td>\n",
       "      <td>NaN</td>\n",
       "      <td>NaN</td>\n",
       "      <td>NaN</td>\n",
       "      <td>NaN</td>\n",
       "      <td>NaN</td>\n",
       "      <td>NaN</td>\n",
       "    </tr>\n",
       "    <tr>\n",
       "      <th>host_total_listings_count</th>\n",
       "      <td>279547.0</td>\n",
       "      <td>NaN</td>\n",
       "      <td>NaN</td>\n",
       "      <td>NaN</td>\n",
       "      <td>24.581612</td>\n",
       "      <td>0.0</td>\n",
       "      <td>1.0</td>\n",
       "      <td>1.0</td>\n",
       "      <td>4.0</td>\n",
       "      <td>7235.0</td>\n",
       "      <td>284.041143</td>\n",
       "    </tr>\n",
       "    <tr>\n",
       "      <th>host_has_profile_pic</th>\n",
       "      <td>279547</td>\n",
       "      <td>2</td>\n",
       "      <td>t</td>\n",
       "      <td>278631</td>\n",
       "      <td>NaN</td>\n",
       "      <td>NaN</td>\n",
       "      <td>NaN</td>\n",
       "      <td>NaN</td>\n",
       "      <td>NaN</td>\n",
       "      <td>NaN</td>\n",
       "      <td>NaN</td>\n",
       "    </tr>\n",
       "    <tr>\n",
       "      <th>host_identity_verified</th>\n",
       "      <td>279547</td>\n",
       "      <td>2</td>\n",
       "      <td>t</td>\n",
       "      <td>201191</td>\n",
       "      <td>NaN</td>\n",
       "      <td>NaN</td>\n",
       "      <td>NaN</td>\n",
       "      <td>NaN</td>\n",
       "      <td>NaN</td>\n",
       "      <td>NaN</td>\n",
       "      <td>NaN</td>\n",
       "    </tr>\n",
       "    <tr>\n",
       "      <th>neighbourhood</th>\n",
       "      <td>279712</td>\n",
       "      <td>660</td>\n",
       "      <td>I Centro Storico</td>\n",
       "      <td>14874</td>\n",
       "      <td>NaN</td>\n",
       "      <td>NaN</td>\n",
       "      <td>NaN</td>\n",
       "      <td>NaN</td>\n",
       "      <td>NaN</td>\n",
       "      <td>NaN</td>\n",
       "      <td>NaN</td>\n",
       "    </tr>\n",
       "    <tr>\n",
       "      <th>district</th>\n",
       "      <td>37012</td>\n",
       "      <td>5</td>\n",
       "      <td>Manhattan</td>\n",
       "      <td>16553</td>\n",
       "      <td>NaN</td>\n",
       "      <td>NaN</td>\n",
       "      <td>NaN</td>\n",
       "      <td>NaN</td>\n",
       "      <td>NaN</td>\n",
       "      <td>NaN</td>\n",
       "      <td>NaN</td>\n",
       "    </tr>\n",
       "    <tr>\n",
       "      <th>city</th>\n",
       "      <td>279712</td>\n",
       "      <td>10</td>\n",
       "      <td>Paris</td>\n",
       "      <td>64690</td>\n",
       "      <td>NaN</td>\n",
       "      <td>NaN</td>\n",
       "      <td>NaN</td>\n",
       "      <td>NaN</td>\n",
       "      <td>NaN</td>\n",
       "      <td>NaN</td>\n",
       "      <td>NaN</td>\n",
       "    </tr>\n",
       "    <tr>\n",
       "      <th>latitude</th>\n",
       "      <td>279712.0</td>\n",
       "      <td>NaN</td>\n",
       "      <td>NaN</td>\n",
       "      <td>NaN</td>\n",
       "      <td>18.761862</td>\n",
       "      <td>-34.2644</td>\n",
       "      <td>-22.96439</td>\n",
       "      <td>40.710785</td>\n",
       "      <td>41.90861</td>\n",
       "      <td>48.90491</td>\n",
       "      <td>32.560343</td>\n",
       "    </tr>\n",
       "    <tr>\n",
       "      <th>longitude</th>\n",
       "      <td>279712.0</td>\n",
       "      <td>NaN</td>\n",
       "      <td>NaN</td>\n",
       "      <td>NaN</td>\n",
       "      <td>12.595075</td>\n",
       "      <td>-99.33963</td>\n",
       "      <td>-43.19804</td>\n",
       "      <td>2.38278</td>\n",
       "      <td>28.98673</td>\n",
       "      <td>151.33981</td>\n",
       "      <td>73.081309</td>\n",
       "    </tr>\n",
       "    <tr>\n",
       "      <th>property_type</th>\n",
       "      <td>279712</td>\n",
       "      <td>144</td>\n",
       "      <td>Entire apartment</td>\n",
       "      <td>138989</td>\n",
       "      <td>NaN</td>\n",
       "      <td>NaN</td>\n",
       "      <td>NaN</td>\n",
       "      <td>NaN</td>\n",
       "      <td>NaN</td>\n",
       "      <td>NaN</td>\n",
       "      <td>NaN</td>\n",
       "    </tr>\n",
       "    <tr>\n",
       "      <th>room_type</th>\n",
       "      <td>279712</td>\n",
       "      <td>4</td>\n",
       "      <td>Entire place</td>\n",
       "      <td>182005</td>\n",
       "      <td>NaN</td>\n",
       "      <td>NaN</td>\n",
       "      <td>NaN</td>\n",
       "      <td>NaN</td>\n",
       "      <td>NaN</td>\n",
       "      <td>NaN</td>\n",
       "      <td>NaN</td>\n",
       "    </tr>\n",
       "    <tr>\n",
       "      <th>accommodates</th>\n",
       "      <td>279712.0</td>\n",
       "      <td>NaN</td>\n",
       "      <td>NaN</td>\n",
       "      <td>NaN</td>\n",
       "      <td>3.288736</td>\n",
       "      <td>0.0</td>\n",
       "      <td>2.0</td>\n",
       "      <td>2.0</td>\n",
       "      <td>4.0</td>\n",
       "      <td>16.0</td>\n",
       "      <td>2.133379</td>\n",
       "    </tr>\n",
       "    <tr>\n",
       "      <th>bedrooms</th>\n",
       "      <td>250277.0</td>\n",
       "      <td>NaN</td>\n",
       "      <td>NaN</td>\n",
       "      <td>NaN</td>\n",
       "      <td>1.515509</td>\n",
       "      <td>1.0</td>\n",
       "      <td>1.0</td>\n",
       "      <td>1.0</td>\n",
       "      <td>2.0</td>\n",
       "      <td>50.0</td>\n",
       "      <td>1.15308</td>\n",
       "    </tr>\n",
       "    <tr>\n",
       "      <th>amenities</th>\n",
       "      <td>279712</td>\n",
       "      <td>245003</td>\n",
       "      <td>[\"Long term stays allowed\"]</td>\n",
       "      <td>1388</td>\n",
       "      <td>NaN</td>\n",
       "      <td>NaN</td>\n",
       "      <td>NaN</td>\n",
       "      <td>NaN</td>\n",
       "      <td>NaN</td>\n",
       "      <td>NaN</td>\n",
       "      <td>NaN</td>\n",
       "    </tr>\n",
       "    <tr>\n",
       "      <th>price</th>\n",
       "      <td>279712.0</td>\n",
       "      <td>NaN</td>\n",
       "      <td>NaN</td>\n",
       "      <td>NaN</td>\n",
       "      <td>608.792737</td>\n",
       "      <td>0.0</td>\n",
       "      <td>75.0</td>\n",
       "      <td>150.0</td>\n",
       "      <td>474.0</td>\n",
       "      <td>625216.0</td>\n",
       "      <td>3441.826611</td>\n",
       "    </tr>\n",
       "    <tr>\n",
       "      <th>minimum_nights</th>\n",
       "      <td>279712.0</td>\n",
       "      <td>NaN</td>\n",
       "      <td>NaN</td>\n",
       "      <td>NaN</td>\n",
       "      <td>8.050967</td>\n",
       "      <td>1.0</td>\n",
       "      <td>1.0</td>\n",
       "      <td>2.0</td>\n",
       "      <td>5.0</td>\n",
       "      <td>9999.0</td>\n",
       "      <td>31.518946</td>\n",
       "    </tr>\n",
       "    <tr>\n",
       "      <th>maximum_nights</th>\n",
       "      <td>279712.0</td>\n",
       "      <td>NaN</td>\n",
       "      <td>NaN</td>\n",
       "      <td>NaN</td>\n",
       "      <td>27558.596667</td>\n",
       "      <td>1.0</td>\n",
       "      <td>45.0</td>\n",
       "      <td>1125.0</td>\n",
       "      <td>1125.0</td>\n",
       "      <td>2147483647.0</td>\n",
       "      <td>7282875.162316</td>\n",
       "    </tr>\n",
       "    <tr>\n",
       "      <th>review_scores_rating</th>\n",
       "      <td>188307.0</td>\n",
       "      <td>NaN</td>\n",
       "      <td>NaN</td>\n",
       "      <td>NaN</td>\n",
       "      <td>93.405195</td>\n",
       "      <td>20.0</td>\n",
       "      <td>91.0</td>\n",
       "      <td>96.0</td>\n",
       "      <td>100.0</td>\n",
       "      <td>100.0</td>\n",
       "      <td>10.070437</td>\n",
       "    </tr>\n",
       "    <tr>\n",
       "      <th>review_scores_accuracy</th>\n",
       "      <td>187999.0</td>\n",
       "      <td>NaN</td>\n",
       "      <td>NaN</td>\n",
       "      <td>NaN</td>\n",
       "      <td>9.565476</td>\n",
       "      <td>2.0</td>\n",
       "      <td>9.0</td>\n",
       "      <td>10.0</td>\n",
       "      <td>10.0</td>\n",
       "      <td>10.0</td>\n",
       "      <td>0.990878</td>\n",
       "    </tr>\n",
       "    <tr>\n",
       "      <th>review_scores_cleanliness</th>\n",
       "      <td>188047.0</td>\n",
       "      <td>NaN</td>\n",
       "      <td>NaN</td>\n",
       "      <td>NaN</td>\n",
       "      <td>9.312869</td>\n",
       "      <td>2.0</td>\n",
       "      <td>9.0</td>\n",
       "      <td>10.0</td>\n",
       "      <td>10.0</td>\n",
       "      <td>10.0</td>\n",
       "      <td>1.146072</td>\n",
       "    </tr>\n",
       "    <tr>\n",
       "      <th>review_scores_checkin</th>\n",
       "      <td>187941.0</td>\n",
       "      <td>NaN</td>\n",
       "      <td>NaN</td>\n",
       "      <td>NaN</td>\n",
       "      <td>9.701534</td>\n",
       "      <td>2.0</td>\n",
       "      <td>10.0</td>\n",
       "      <td>10.0</td>\n",
       "      <td>10.0</td>\n",
       "      <td>10.0</td>\n",
       "      <td>0.867434</td>\n",
       "    </tr>\n",
       "    <tr>\n",
       "      <th>review_scores_communication</th>\n",
       "      <td>188025.0</td>\n",
       "      <td>NaN</td>\n",
       "      <td>NaN</td>\n",
       "      <td>NaN</td>\n",
       "      <td>9.698593</td>\n",
       "      <td>2.0</td>\n",
       "      <td>10.0</td>\n",
       "      <td>10.0</td>\n",
       "      <td>10.0</td>\n",
       "      <td>10.0</td>\n",
       "      <td>0.886884</td>\n",
       "    </tr>\n",
       "    <tr>\n",
       "      <th>review_scores_location</th>\n",
       "      <td>187937.0</td>\n",
       "      <td>NaN</td>\n",
       "      <td>NaN</td>\n",
       "      <td>NaN</td>\n",
       "      <td>9.633994</td>\n",
       "      <td>2.0</td>\n",
       "      <td>9.0</td>\n",
       "      <td>10.0</td>\n",
       "      <td>10.0</td>\n",
       "      <td>10.0</td>\n",
       "      <td>0.833234</td>\n",
       "    </tr>\n",
       "    <tr>\n",
       "      <th>review_scores_value</th>\n",
       "      <td>187927.0</td>\n",
       "      <td>NaN</td>\n",
       "      <td>NaN</td>\n",
       "      <td>NaN</td>\n",
       "      <td>9.335364</td>\n",
       "      <td>2.0</td>\n",
       "      <td>9.0</td>\n",
       "      <td>10.0</td>\n",
       "      <td>10.0</td>\n",
       "      <td>10.0</td>\n",
       "      <td>1.042625</td>\n",
       "    </tr>\n",
       "    <tr>\n",
       "      <th>instant_bookable</th>\n",
       "      <td>279712</td>\n",
       "      <td>2</td>\n",
       "      <td>f</td>\n",
       "      <td>164105</td>\n",
       "      <td>NaN</td>\n",
       "      <td>NaN</td>\n",
       "      <td>NaN</td>\n",
       "      <td>NaN</td>\n",
       "      <td>NaN</td>\n",
       "      <td>NaN</td>\n",
       "      <td>NaN</td>\n",
       "    </tr>\n",
       "    <tr>\n",
       "      <th>last_review</th>\n",
       "      <td>193556</td>\n",
       "      <td>NaN</td>\n",
       "      <td>NaN</td>\n",
       "      <td>NaN</td>\n",
       "      <td>2019-10-15 04:09:23.185848064</td>\n",
       "      <td>2010-05-28 00:00:00</td>\n",
       "      <td>2019-05-29 00:00:00</td>\n",
       "      <td>2020-02-18 00:00:00</td>\n",
       "      <td>2020-11-05 00:00:00</td>\n",
       "      <td>2021-03-01 00:00:00</td>\n",
       "      <td>NaN</td>\n",
       "    </tr>\n",
       "  </tbody>\n",
       "</table>\n",
       "</div>"
      ],
      "text/plain": [
       "                                count  unique                           top  \\\n",
       "listing_id                   279712.0     NaN                           NaN   \n",
       "name                           279537  265860           home away from home   \n",
       "host_id                      279712.0     NaN                           NaN   \n",
       "host_since                     279547    4240                    2019-09-02   \n",
       "host_location                  278872    7159  Paris, Ile-de-France, France   \n",
       "host_response_time             150930       4                within an hour   \n",
       "host_response_rate           150930.0     NaN                           NaN   \n",
       "host_acceptance_rate         166625.0     NaN                           NaN   \n",
       "host_is_superhost              279547       2                             f   \n",
       "host_total_listings_count    279547.0     NaN                           NaN   \n",
       "host_has_profile_pic           279547       2                             t   \n",
       "host_identity_verified         279547       2                             t   \n",
       "neighbourhood                  279712     660              I Centro Storico   \n",
       "district                        37012       5                     Manhattan   \n",
       "city                           279712      10                         Paris   \n",
       "latitude                     279712.0     NaN                           NaN   \n",
       "longitude                    279712.0     NaN                           NaN   \n",
       "property_type                  279712     144              Entire apartment   \n",
       "room_type                      279712       4                  Entire place   \n",
       "accommodates                 279712.0     NaN                           NaN   \n",
       "bedrooms                     250277.0     NaN                           NaN   \n",
       "amenities                      279712  245003   [\"Long term stays allowed\"]   \n",
       "price                        279712.0     NaN                           NaN   \n",
       "minimum_nights               279712.0     NaN                           NaN   \n",
       "maximum_nights               279712.0     NaN                           NaN   \n",
       "review_scores_rating         188307.0     NaN                           NaN   \n",
       "review_scores_accuracy       187999.0     NaN                           NaN   \n",
       "review_scores_cleanliness    188047.0     NaN                           NaN   \n",
       "review_scores_checkin        187941.0     NaN                           NaN   \n",
       "review_scores_communication  188025.0     NaN                           NaN   \n",
       "review_scores_location       187937.0     NaN                           NaN   \n",
       "review_scores_value          187927.0     NaN                           NaN   \n",
       "instant_bookable               279712       2                             f   \n",
       "last_review                    193556     NaN                           NaN   \n",
       "\n",
       "                               freq                           mean  \\\n",
       "listing_id                      NaN                26381955.489825   \n",
       "name                             98                            NaN   \n",
       "host_id                         NaN               108165773.085531   \n",
       "host_since                      710                            NaN   \n",
       "host_location                 47794                            NaN   \n",
       "host_response_time            83464                            NaN   \n",
       "host_response_rate              NaN                       0.865939   \n",
       "host_acceptance_rate            NaN                       0.827168   \n",
       "host_is_superhost            229294                            NaN   \n",
       "host_total_listings_count       NaN                      24.581612   \n",
       "host_has_profile_pic         278631                            NaN   \n",
       "host_identity_verified       201191                            NaN   \n",
       "neighbourhood                 14874                            NaN   \n",
       "district                      16553                            NaN   \n",
       "city                          64690                            NaN   \n",
       "latitude                        NaN                      18.761862   \n",
       "longitude                       NaN                      12.595075   \n",
       "property_type                138989                            NaN   \n",
       "room_type                    182005                            NaN   \n",
       "accommodates                    NaN                       3.288736   \n",
       "bedrooms                        NaN                       1.515509   \n",
       "amenities                      1388                            NaN   \n",
       "price                           NaN                     608.792737   \n",
       "minimum_nights                  NaN                       8.050967   \n",
       "maximum_nights                  NaN                   27558.596667   \n",
       "review_scores_rating            NaN                      93.405195   \n",
       "review_scores_accuracy          NaN                       9.565476   \n",
       "review_scores_cleanliness       NaN                       9.312869   \n",
       "review_scores_checkin           NaN                       9.701534   \n",
       "review_scores_communication     NaN                       9.698593   \n",
       "review_scores_location          NaN                       9.633994   \n",
       "review_scores_value             NaN                       9.335364   \n",
       "instant_bookable             164105                            NaN   \n",
       "last_review                     NaN  2019-10-15 04:09:23.185848064   \n",
       "\n",
       "                                             min                  25%  \\\n",
       "listing_id                                2577.0          13844618.75   \n",
       "name                                         NaN                  NaN   \n",
       "host_id                                   1822.0           17206558.0   \n",
       "host_since                                   NaN                  NaN   \n",
       "host_location                                NaN                  NaN   \n",
       "host_response_time                           NaN                  NaN   \n",
       "host_response_rate                           0.0                  0.9   \n",
       "host_acceptance_rate                         0.0                 0.78   \n",
       "host_is_superhost                            NaN                  NaN   \n",
       "host_total_listings_count                    0.0                  1.0   \n",
       "host_has_profile_pic                         NaN                  NaN   \n",
       "host_identity_verified                       NaN                  NaN   \n",
       "neighbourhood                                NaN                  NaN   \n",
       "district                                     NaN                  NaN   \n",
       "city                                         NaN                  NaN   \n",
       "latitude                                -34.2644            -22.96439   \n",
       "longitude                              -99.33963            -43.19804   \n",
       "property_type                                NaN                  NaN   \n",
       "room_type                                    NaN                  NaN   \n",
       "accommodates                                 0.0                  2.0   \n",
       "bedrooms                                     1.0                  1.0   \n",
       "amenities                                    NaN                  NaN   \n",
       "price                                        0.0                 75.0   \n",
       "minimum_nights                               1.0                  1.0   \n",
       "maximum_nights                               1.0                 45.0   \n",
       "review_scores_rating                        20.0                 91.0   \n",
       "review_scores_accuracy                       2.0                  9.0   \n",
       "review_scores_cleanliness                    2.0                  9.0   \n",
       "review_scores_checkin                        2.0                 10.0   \n",
       "review_scores_communication                  2.0                 10.0   \n",
       "review_scores_location                       2.0                  9.0   \n",
       "review_scores_value                          2.0                  9.0   \n",
       "instant_bookable                             NaN                  NaN   \n",
       "last_review                  2010-05-28 00:00:00  2019-05-29 00:00:00   \n",
       "\n",
       "                                             50%                  75%  \\\n",
       "listing_id                            27670985.0          39784850.75   \n",
       "name                                         NaN                  NaN   \n",
       "host_id                               58269113.5         183285318.75   \n",
       "host_since                                   NaN                  NaN   \n",
       "host_location                                NaN                  NaN   \n",
       "host_response_time                           NaN                  NaN   \n",
       "host_response_rate                           1.0                  1.0   \n",
       "host_acceptance_rate                        0.98                  1.0   \n",
       "host_is_superhost                            NaN                  NaN   \n",
       "host_total_listings_count                    1.0                  4.0   \n",
       "host_has_profile_pic                         NaN                  NaN   \n",
       "host_identity_verified                       NaN                  NaN   \n",
       "neighbourhood                                NaN                  NaN   \n",
       "district                                     NaN                  NaN   \n",
       "city                                         NaN                  NaN   \n",
       "latitude                               40.710785             41.90861   \n",
       "longitude                                2.38278             28.98673   \n",
       "property_type                                NaN                  NaN   \n",
       "room_type                                    NaN                  NaN   \n",
       "accommodates                                 2.0                  4.0   \n",
       "bedrooms                                     1.0                  2.0   \n",
       "amenities                                    NaN                  NaN   \n",
       "price                                      150.0                474.0   \n",
       "minimum_nights                               2.0                  5.0   \n",
       "maximum_nights                            1125.0               1125.0   \n",
       "review_scores_rating                        96.0                100.0   \n",
       "review_scores_accuracy                      10.0                 10.0   \n",
       "review_scores_cleanliness                   10.0                 10.0   \n",
       "review_scores_checkin                       10.0                 10.0   \n",
       "review_scores_communication                 10.0                 10.0   \n",
       "review_scores_location                      10.0                 10.0   \n",
       "review_scores_value                         10.0                 10.0   \n",
       "instant_bookable                             NaN                  NaN   \n",
       "last_review                  2020-02-18 00:00:00  2020-11-05 00:00:00   \n",
       "\n",
       "                                             max               std  \n",
       "listing_id                            48343530.0   14425758.688779  \n",
       "name                                         NaN               NaN  \n",
       "host_id                              390187445.0  110856993.215897  \n",
       "host_since                                   NaN               NaN  \n",
       "host_location                                NaN               NaN  \n",
       "host_response_time                           NaN               NaN  \n",
       "host_response_rate                           1.0          0.283744  \n",
       "host_acceptance_rate                         1.0          0.289202  \n",
       "host_is_superhost                            NaN               NaN  \n",
       "host_total_listings_count                 7235.0        284.041143  \n",
       "host_has_profile_pic                         NaN               NaN  \n",
       "host_identity_verified                       NaN               NaN  \n",
       "neighbourhood                                NaN               NaN  \n",
       "district                                     NaN               NaN  \n",
       "city                                         NaN               NaN  \n",
       "latitude                                48.90491         32.560343  \n",
       "longitude                              151.33981         73.081309  \n",
       "property_type                                NaN               NaN  \n",
       "room_type                                    NaN               NaN  \n",
       "accommodates                                16.0          2.133379  \n",
       "bedrooms                                    50.0           1.15308  \n",
       "amenities                                    NaN               NaN  \n",
       "price                                   625216.0       3441.826611  \n",
       "minimum_nights                            9999.0         31.518946  \n",
       "maximum_nights                      2147483647.0    7282875.162316  \n",
       "review_scores_rating                       100.0         10.070437  \n",
       "review_scores_accuracy                      10.0          0.990878  \n",
       "review_scores_cleanliness                   10.0          1.146072  \n",
       "review_scores_checkin                       10.0          0.867434  \n",
       "review_scores_communication                 10.0          0.886884  \n",
       "review_scores_location                      10.0          0.833234  \n",
       "review_scores_value                         10.0          1.042625  \n",
       "instant_bookable                             NaN               NaN  \n",
       "last_review                  2021-03-01 00:00:00               NaN  "
      ]
     },
     "execution_count": 10,
     "metadata": {},
     "output_type": "execute_result"
    }
   ],
   "source": [
    "listings.describe(include='all').T"
   ]
  },
  {
   "cell_type": "code",
   "execution_count": 11,
   "id": "080fb934",
   "metadata": {},
   "outputs": [
    {
     "data": {
      "text/plain": [
       "<Axes: title={'center': 'Missing Data Proportion'}>"
      ]
     },
     "execution_count": 11,
     "metadata": {},
     "output_type": "execute_result"
    },
    {
     "data": {
      "image/png": "[encoded data removed]",
      "text/plain": [
       "<Figure size 1200x600 with 1 Axes>"
      ]
     },
     "metadata": {},
     "output_type": "display_data"
    }
   ],
   "source": [
    "#Missing Values\n",
    "\n",
    "missing = listings.isnull().mean().sort_values(ascending=False)\n",
    "missing[missing > 0].plot(kind='barh', title='Missing Data Proportion')"
   ]
  },
  {
   "cell_type": "code",
   "execution_count": 12,
   "id": "9a0bb9d8",
   "metadata": {},
   "outputs": [
    {
     "data": {
      "text/plain": [
       "Text(0.5, 1.0, 'Top 10 Cities by NUmber of Listings')"
      ]
     },
     "execution_count": 12,
     "metadata": {},
     "output_type": "execute_result"
    },
    {
     "data": {
      "image/png": "[encoded data removed]",
      "text/plain": [
       "<Figure size 1200x600 with 1 Axes>"
      ]
     },
     "metadata": {},
     "output_type": "display_data"
    }
   ],
   "source": [
    "#Geographic Distribution\n",
    "\n",
    "#Listings per City\n",
    "\n",
    "city_counts = listings['city'].value_counts().head(10)\n",
    "sns.barplot(x=city_counts.values, y=city_counts.index)\n",
    "plt.title('Top 10 Cities by NUmber of Listings')"
   ]
  },
  {
   "cell_type": "code",
   "execution_count": 13,
   "id": "8c7b8b6c",
   "metadata": {},
   "outputs": [
    {
     "data": {
      "text/plain": [
       "Text(0.5, 1.0, 'Geographic Distribution of Listings')"
      ]
     },
     "execution_count": 13,
     "metadata": {},
     "output_type": "execute_result"
    },
    {
     "data": {
      "image/png": "[encoded data removed]",
      "text/plain": [
       "<Figure size 1200x600 with 1 Axes>"
      ]
     },
     "metadata": {},
     "output_type": "display_data"
    }
   ],
   "source": [
    "#Map of Listings (scatter plot)\n",
    "\n",
    "sns.scatterplot(data=listings, x='longitude', y='latitude', hue='room_type', alpha=0.4)\n",
    "plt.title('Geographic Distribution of Listings')"
   ]
  },
  {
   "cell_type": "code",
   "execution_count": 14,
   "id": "396186aa",
   "metadata": {},
   "outputs": [
    {
     "data": {
      "text/plain": [
       "Text(0.5, 1.0, 'Distribution of Room Types')"
      ]
     },
     "execution_count": 14,
     "metadata": {},
     "output_type": "execute_result"
    },
    {
     "data": {
      "image/png": "[encoded data removed]",
      "text/plain": [
       "<Figure size 1200x600 with 1 Axes>"
      ]
     },
     "metadata": {},
     "output_type": "display_data"
    }
   ],
   "source": [
    "#1.Property & Room Types\n",
    "\n",
    "sns.countplot(data=listings, y='room_type', order = listings['room_type'].value_counts().index)\n",
    "plt.title('Distribution of Room Types')"
   ]
  },
  {
   "cell_type": "code",
   "execution_count": 15,
   "id": "23b49242",
   "metadata": {},
   "outputs": [
    {
     "data": {
      "text/plain": [
       "Text(0.5, 1.0, 'Top Property Types')"
      ]
     },
     "execution_count": 15,
     "metadata": {},
     "output_type": "execute_result"
    },
    {
     "data": {
      "image/png": "[encoded data removed]",
      "text/plain": [
       "<Figure size 1200x600 with 1 Axes>"
      ]
     },
     "metadata": {},
     "output_type": "display_data"
    }
   ],
   "source": [
    "sns.countplot(data=listings, y='property_type', order=listings['property_type'].value_counts().head(10).index)\n",
    "plt.title('Top Property Types')"
   ]
  },
  {
   "cell_type": "code",
   "execution_count": 16,
   "id": "d509a707",
   "metadata": {},
   "outputs": [
    {
     "name": "stderr",
     "output_type": "stream",
     "text": [
      "<>:3: SyntaxWarning: invalid escape sequence '\\$'\n",
      "<>:3: SyntaxWarning: invalid escape sequence '\\$'\n",
      "C:\\Users\\USER\\AppData\\Local\\Temp\\ipykernel_9564\\1297075689.py:3: SyntaxWarning: invalid escape sequence '\\$'\n",
      "  listings['price'] = listings['price'].replace('[\\$,]', '', regex=True).astype(float)\n"
     ]
    },
    {
     "data": {
      "text/plain": [
       "Text(0.5, 1.0, 'Price Distribution (clipped at $1000)')"
      ]
     },
     "execution_count": 16,
     "metadata": {},
     "output_type": "execute_result"
    },
    {
     "data": {
      "image/png": "[encoded data removed]",
      "text/plain": [
       "<Figure size 1200x600 with 1 Axes>"
      ]
     },
     "metadata": {},
     "output_type": "display_data"
    }
   ],
   "source": [
    "#1.Price Distribution\n",
    "\n",
    "listings['price'] = listings['price'].replace('[\\$,]', '', regex=True).astype(float)\n",
    "sns.histplot(listings['price'], bins=100, kde=True)\n",
    "plt.xlim(0, 1000)\n",
    "plt.title('Price Distribution (clipped at $1000)')"
   ]
  },
  {
   "cell_type": "code",
   "execution_count": 17,
   "id": "0d84e752",
   "metadata": {},
   "outputs": [
    {
     "data": {
      "text/plain": [
       "Text(0.5, 1.0, 'COrrelation of Review Scores')"
      ]
     },
     "execution_count": 17,
     "metadata": {},
     "output_type": "execute_result"
    },
    {
     "data": {
      "image/png": "[encoded data removed]",
      "text/plain": [
       "<Figure size 1200x600 with 2 Axes>"
      ]
     },
     "metadata": {},
     "output_type": "display_data"
    }
   ],
   "source": [
    "review_cols = [col for col in listings.columns if 'review_scores_' in col]\n",
    "\n",
    "sns.heatmap(listings[review_cols].corr(), annot=True, cmap='coolwarm')\n",
    "plt.title('COrrelation of Review Scores')"
   ]
  },
  {
   "cell_type": "code",
   "execution_count": 18,
   "id": "7c6b635d",
   "metadata": {},
   "outputs": [
    {
     "data": {
      "text/plain": [
       "<Axes: title={'center': 'Number of Reviews Per Time'}, xlabel='year_month'>"
      ]
     },
     "execution_count": 18,
     "metadata": {},
     "output_type": "execute_result"
    },
    {
     "data": {
      "image/png": "[encoded data removed]",
      "text/plain": [
       "<Figure size 1200x600 with 1 Axes>"
      ]
     },
     "metadata": {},
     "output_type": "display_data"
    }
   ],
   "source": [
    "#1.Activity Over Time\n",
    "\n",
    "reviews['year_month'] = reviews['date'].dt.to_period('M')\n",
    "review_counts = reviews.groupby('year_month').size()\n",
    "review_counts.plot(title='Number of Reviews Per Time')"
   ]
  },
  {
   "cell_type": "code",
   "execution_count": 19,
   "id": "25ddc42b",
   "metadata": {},
   "outputs": [
    {
     "data": {
      "text/html": [
       "<div>\n",
       "<style scoped>\n",
       "    .dataframe tbody tr th:only-of-type {\n",
       "        vertical-align: middle;\n",
       "    }\n",
       "\n",
       "    .dataframe tbody tr th {\n",
       "        vertical-align: top;\n",
       "    }\n",
       "\n",
       "    .dataframe thead th {\n",
       "        text-align: right;\n",
       "    }\n",
       "</style>\n",
       "<table border=\"1\" class=\"dataframe\">\n",
       "  <thead>\n",
       "    <tr style=\"text-align: right;\">\n",
       "      <th></th>\n",
       "      <th>name</th>\n",
       "      <th>review_scores_rating</th>\n",
       "      <th>price</th>\n",
       "    </tr>\n",
       "  </thead>\n",
       "  <tbody>\n",
       "    <tr>\n",
       "      <th>279711</th>\n",
       "      <td>Cosy apartment with view on Canal St Martin</td>\n",
       "      <td>100.0</td>\n",
       "      <td>70.0</td>\n",
       "    </tr>\n",
       "    <tr>\n",
       "      <th>0</th>\n",
       "      <td>Beautiful Flat in le Village Montmartre, Paris</td>\n",
       "      <td>100.0</td>\n",
       "      <td>53.0</td>\n",
       "    </tr>\n",
       "    <tr>\n",
       "      <th>1</th>\n",
       "      <td>39 mÃÂ² Paris (Sacre CÃâur)</td>\n",
       "      <td>100.0</td>\n",
       "      <td>120.0</td>\n",
       "    </tr>\n",
       "    <tr>\n",
       "      <th>279695</th>\n",
       "      <td>Charmant petit duplex au coeur du village Pernety</td>\n",
       "      <td>100.0</td>\n",
       "      <td>65.0</td>\n",
       "    </tr>\n",
       "    <tr>\n",
       "      <th>279694</th>\n",
       "      <td>Charming Flat at Nation - Paris - 50m2</td>\n",
       "      <td>100.0</td>\n",
       "      <td>80.0</td>\n",
       "    </tr>\n",
       "    <tr>\n",
       "      <th>279693</th>\n",
       "      <td>Charmant appartement parisien proche Tour Eiffel</td>\n",
       "      <td>100.0</td>\n",
       "      <td>90.0</td>\n",
       "    </tr>\n",
       "    <tr>\n",
       "      <th>279692</th>\n",
       "      <td>Vue splendide face parc Buttes Chaumont, 2P 50m2.</td>\n",
       "      <td>100.0</td>\n",
       "      <td>80.0</td>\n",
       "    </tr>\n",
       "    <tr>\n",
       "      <th>279691</th>\n",
       "      <td>Sunny big flat . Paris centre</td>\n",
       "      <td>100.0</td>\n",
       "      <td>110.0</td>\n",
       "    </tr>\n",
       "    <tr>\n",
       "      <th>279690</th>\n",
       "      <td>Appartement cosy - Paris,  Butte aux Cailles</td>\n",
       "      <td>100.0</td>\n",
       "      <td>69.0</td>\n",
       "    </tr>\n",
       "    <tr>\n",
       "      <th>279689</th>\n",
       "      <td>Unique and luxury flat in the heart of Paris</td>\n",
       "      <td>100.0</td>\n",
       "      <td>80.0</td>\n",
       "    </tr>\n",
       "  </tbody>\n",
       "</table>\n",
       "</div>"
      ],
      "text/plain": [
       "                                                     name  \\\n",
       "279711        Cosy apartment with view on Canal St Martin   \n",
       "0          Beautiful Flat in le Village Montmartre, Paris   \n",
       "1                         39 mÃÂ² Paris (Sacre CÃ\n",
       "âur)   \n",
       "279695  Charmant petit duplex au coeur du village Pernety   \n",
       "279694             Charming Flat at Nation - Paris - 50m2   \n",
       "279693   Charmant appartement parisien proche Tour Eiffel   \n",
       "279692  Vue splendide face parc Buttes Chaumont, 2P 50m2.   \n",
       "279691                      Sunny big flat . Paris centre   \n",
       "279690       Appartement cosy - Paris,  Butte aux Cailles   \n",
       "279689       Unique and luxury flat in the heart of Paris   \n",
       "\n",
       "        review_scores_rating  price  \n",
       "279711                 100.0   70.0  \n",
       "0                      100.0   53.0  \n",
       "1                      100.0  120.0  \n",
       "279695                 100.0   65.0  \n",
       "279694                 100.0   80.0  \n",
       "279693                 100.0   90.0  \n",
       "279692                 100.0   80.0  \n",
       "279691                 100.0  110.0  \n",
       "279690                 100.0   69.0  \n",
       "279689                 100.0   80.0  "
      ]
     },
     "execution_count": 19,
     "metadata": {},
     "output_type": "execute_result"
    }
   ],
   "source": [
    "#1. Top Listings by Rating & Reviews\n",
    "\n",
    "top_listings = listings[['name', 'review_scores_rating', 'price']].sort_values(by='review_scores_rating', ascending=False).dropna().head(10)\n",
    "top_listings"
   ]
  },
  {
   "cell_type": "code",
   "execution_count": 20,
   "id": "f27e3bfc",
   "metadata": {},
   "outputs": [
    {
     "data": {
      "text/plain": [
       "listing_id\n",
       "17222007    891\n",
       "8637229     828\n",
       "1249964     796\n",
       "32011332    762\n",
       "2399029     754\n",
       "32678719    753\n",
       "470817      717\n",
       "24745583    710\n",
       "865289      702\n",
       "162163      700\n",
       "Name: count, dtype: int64"
      ]
     },
     "execution_count": 20,
     "metadata": {},
     "output_type": "execute_result"
    }
   ],
   "source": [
    "top_reviewed = reviews['listing_id'].value_counts().head(10)\n",
    "top_reviewed"
   ]
  },
  {
   "cell_type": "code",
   "execution_count": 21,
   "id": "14d5f3b6",
   "metadata": {},
   "outputs": [
    {
     "name": "stderr",
     "output_type": "stream",
     "text": [
      "<>:1: SyntaxWarning: invalid escape sequence '\\$'\n",
      "<>:1: SyntaxWarning: invalid escape sequence '\\$'\n",
      "C:\\Users\\USER\\AppData\\Local\\Temp\\ipykernel_9564\\1402636613.py:1: SyntaxWarning: invalid escape sequence '\\$'\n",
      "  listings['price'] = listings['price'].replace('[\\$,]', '', regex=True).astype(float)\n"
     ]
    }
   ],
   "source": [
    "listings['price'] = listings['price'].replace('[\\$,]', '', regex=True).astype(float)\n",
    "df = listings[listings['price'] > 0]  # Remove free listings"
   ]
  },
  {
   "cell_type": "code",
   "execution_count": null,
   "id": "58dde82a",
   "metadata": {},
   "outputs": [],
   "source": []
  },
  {
   "cell_type": "code",
   "execution_count": 22,
   "id": "6b8d30dc",
   "metadata": {},
   "outputs": [],
   "source": [
    "from sklearn.preprocessing import OneHotEncoder, StandardScaler\n",
    "from sklearn.compose import ColumnTransformer\n",
    "from sklearn.pipeline import Pipeline\n",
    "\n",
    "categorical = ['neighbourhood', 'room_type']\n",
    "numeric = ['minimum_nights', 'availability_365', 'number_of_reviews']\n",
    "\n",
    "preprocessor = ColumnTransformer([\n",
    "    ('cat', OneHotEncoder(handle_unknown='ignore'), categorical),\n",
    "    ('num', StandardScaler(), numeric)\n",
    "])"
   ]
  },
  {
   "cell_type": "code",
   "execution_count": 23,
   "id": "5ceec396",
   "metadata": {},
   "outputs": [
    {
     "name": "stdout",
     "output_type": "stream",
     "text": [
      "Model R² Score on test data: -0.1475383903863623\n"
     ]
    }
   ],
   "source": [
    "from sklearn.ensemble import RandomForestRegressor\n",
    "from sklearn.model_selection import train_test_split\n",
    "from sklearn.preprocessing import OneHotEncoder, StandardScaler\n",
    "from sklearn.compose import ColumnTransformer\n",
    "from sklearn.pipeline import Pipeline\n",
    "\n",
    "# Define features and target\n",
    "categorical = ['neighbourhood', 'room_type']\n",
    "numeric = ['minimum_nights', 'bedrooms', 'accommodates', 'review_scores_rating', 'review_scores_cleanliness']\n",
    "\n",
    "# Drop rows with missing values in selected columns\n",
    "df_model = df[categorical + numeric + ['price']].dropna()\n",
    "df_model.to_csv(\"clean_airbnb.csv\", index=False)\n",
    "\n",
    "X = df_model[categorical + numeric]\n",
    "y = df_model['price']\n",
    "\n",
    "# Preprocessing pipeline\n",
    "preprocessor = ColumnTransformer([\n",
    "    ('cat', OneHotEncoder(handle_unknown='ignore'), categorical),\n",
    "    ('num', StandardScaler(), numeric)\n",
    "])\n",
    "\n",
    "# Combine with model\n",
    "pipeline = Pipeline([\n",
    "    ('preprocessor', preprocessor),\n",
    "    ('model', RandomForestRegressor(random_state=42))\n",
    "])\n",
    "\n",
    "# Train/test split\n",
    "X_train, X_test, y_train, y_test = train_test_split(X, y, test_size=0.2, random_state=10)\n",
    "\n",
    "# Fit the model\n",
    "pipeline.fit(X_train, y_train)\n",
    "\n",
    "# Evaluate\n",
    "print(\"Model R² Score on test data:\", pipeline.score(X_test, y_test))\n"
   ]
  },
  {
   "cell_type": "code",
   "execution_count": 24,
   "id": "deae5cd2",
   "metadata": {},
   "outputs": [
    {
     "name": "stdout",
     "output_type": "stream",
     "text": [
      "✅ Model trained and saved.\n"
     ]
    }
   ],
   "source": [
    "import joblib\n",
    "\n",
    "joblib.dump(pipeline, 'price_model.pkl')\n",
    "print('✅ Model trained and saved.')"
   ]
  },
  {
   "cell_type": "code",
   "execution_count": 25,
   "id": "0c78c5df",
   "metadata": {},
   "outputs": [],
   "source": [
    "import folium\n",
    "\n",
    "map_center = [df.latitude.mean(), df.longitude.mean()]\n",
    "m = folium.Map(location=map_center, zoom_start=12)\n",
    "\n",
    "for _, row in df.sample(500).iterrows():\n",
    "    folium.Marker(\n",
    "        location=[row['latitude'], row['longitude']],\n",
    "        popup=f'${row['price']} - {row['room_type']}'\n",
    "    ).add_to(m)\n",
    "\n",
    "m.save('airbnb_map.html')"
   ]
  },
  {
   "cell_type": "code",
   "execution_count": 26,
   "id": "1c6d7aa4",
   "metadata": {},
   "outputs": [
    {
     "name": "stderr",
     "output_type": "stream",
     "text": [
      "2025-05-28 17:38:47.046 WARNING streamlit.runtime.scriptrunner_utils.script_run_context: Thread 'MainThread': missing ScriptRunContext! This warning can be ignored when running in bare mode.\n",
      "2025-05-28 17:38:48.028 \n",
      "  \u001b[33m\u001b[1mWarning:\u001b[0m to view this Streamlit app on a browser, run it with the following\n",
      "  command:\n",
      "\n",
      "    streamlit run c:\\Users\\USER\\.conda\\envs\\airenv\\Lib\\site-packages\\ipykernel_launcher.py [ARGUMENTS]\n",
      "2025-05-28 17:38:48.029 Thread 'MainThread': missing ScriptRunContext! This warning can be ignored when running in bare mode.\n"
     ]
    },
    {
     "data": {
      "text/plain": [
       "DeltaGenerator()"
      ]
     },
     "execution_count": 26,
     "metadata": {},
     "output_type": "execute_result"
    }
   ],
   "source": [
    "import streamlit.components.v1 as components\n",
    "components.html(open('airbnb_map.html', 'r').read(), height=600)"
   ]
  },
  {
   "cell_type": "code",
   "execution_count": 30,
   "id": "6695cbad",
   "metadata": {},
   "outputs": [
    {
     "data": {
      "application/vnd.plotly.v1+json": {
       "config": {
        "plotlyServerURL": "https://plot.ly"
       },
       "data": [
        {
         "hovertemplate": "<b>%{hovertext}</b><br><br>latitude=%{lat}<br>longitude=%{lon}<br>price=%{marker.color}<extra></extra>",
         "hovertext": [
          "St Regis Hotel, NYC Luxury Hotel Rooms by Owners",
          "Close to everything Sydney!",
          "Quiet Room Near BTS",
          "2.B&B Rome EUR-Nice & Sunny Bedroom at Attic Floor",
          "Studio Paris 15ÃÂ¨me",
          "Ã¦âÂºÃ¨Â§âÃ¥Ââ¬Ã§Â¶âÃ¦Â¿Å¸Ã¦Â¨â¢Ã©Å¡Â»Ã¦ËÂ¿Budget Twin Rm@Mong Kok1902",
          "Stylish Convenience in Bantry Bay (Apartment 2)",
          "TwÃÂ±n bodrum 1",
          "8. TiffanyÃ¢â¬â¢s Vibrant Colors&Large Balcony up/to 04",
          "Aprilis Gold Hotel - Triple Room",
          "Studio Standing cÃâur de Paris",
          "Beautiful Vaucluse Townhouse",
          "Excelente apartamento de 02 quartos em Ipanema",
          "Studio ideal ÃÂ  cÃÂ´te des Buttes Chaumont",
          "Quaint and cute apartment",
          "Ã¢Ëâ¬Ã¯Â¸Â T2 - 3pers - Buttes chaumont - Terrace Ã¢Ëâ¬Ã¯Â¸Â",
          "Quarto 1 . Centro/Lapa",
          "The BEST LOCATION in Brooklyn",
          "Private Room - Reforma - Excellent location!",
          "Entire apartment in La Roma, Mexico City",
          "Escape to Strathfield for 8 guests",
          "Grand et lumineux deux piÃÂ¨ces",
          "NiÃÅ¸antasÃÂ±nda KiralÃÂ±k oda veya Daire",
          "UWS Townhouse convertible 2 Br. on Park GORGEOUS!",
          "Real parisian experience in trendy and luxury area",
          "Panorama Self Catering A6",
          "Hustville Ã©ËÂ³Ã¥â¦â°Ã¨ËâÃ©â¬âÃ¥Â®Â½Ã¦â¢Å¾Ã¦ËÅ½Ã¤ÂºÂ®Ã¥ÂÂ§Ã¥Â®Â¤",
          "Luxury Apartment 6BR close to Colosseo",
          "Enjoy Nature at Luxury 3BR Flat Near Airport",
          "Nice condo for rent -  Hasu Haus",
          "Cosy duplex in Opera / Haussmann",
          "Parque OlÃÂ­mpico 2016 - Barra",
          "Depto. RÃÂ­o Tiber",
          "Family oasis, with playroom & Balinese style pool",
          "Cosy Home in the Center of Paris - With AC III",
          "Double room available in 2 bedroom apartment(",
          "Box house",
          "ALMERIA GARDEN APARTMENT PARIS",
          "Aluguel quarto durante olimpÃÂ­adas",
          "Ultra Modern 1 Bedroom Apartment in Secure Estate",
          "Beachfront apartment with spectacular views",
          "studio simple calme lumineux",
          "Holiday Apartment Durbanville",
          "Beachside bedroom with bathroom",
          "Cronulla Beach Escape",
          "Quiet A Sweet Home 2 Bedrooms Apart Ãâ-2",
          "uma linda casa para morar a dois passos do mar",
          "huge sunny 1 bed Times Square!!!!!!",
          "Keyifli konaklama Full daire",
          "Apartamento Resort Barra da Tijuca",
          "Hotel Gramont Opera - Classic Room",
          "Desirable Suite Standard At Mongkok",
          "lovely furnished flat in the center of Istanbul",
          "Chic and Stylish Flat with Terrace near St. Paul",
          "Spacious and atypical loft in Paris",
          "Historic workers cottage - close to everything!",
          "Suite en Reforma",
          "34m2 sunny and bright flat near Montmarte",
          "Whale Tail Cottage",
          "Groovy NYC Chelsea Pad",
          "Petit nid au pied de Montmartre",
          "Bushwick's LARGEST Art-Filled Room in New Building",
          "DOUBLE ROOM",
          "CHIC#3 High ceiling apartment At Taksim square",
          "Spacious open plan house with 3 double bedrooms.",
          "Chambre dans appartement lumineux",
          "Lovely Light-Filled Room in Brooklyn Townhouse!",
          "Fine modern apartment, 24/7 security 1 bedroom",
          "Bright & quiet double room in Prati, near Vatican",
          "Ã¢Â­ÂÃ¯Â¸ÂBOUTIQUE APT BELLAS ARTES/2BR/50% OFF/ TERRACE.",
          "Period house in the city fringe Bedrm1 $60/night",
          "CASA ALMADA",
          "AlmaResort B&B Roma",
          "LUX Three Bedroom Apartment - In the Heart of CBD",
          "Silence-Flat in the heart of Rome!",
          "Brandnew Studio In Montmartre Next Sacre Coeur",
          "Charming apart - Nazareth D - BAIL MOBILITÃâ°",
          "Alugo Apartamento por temporada em Copacabana-Rj",
          "Outstanding view spacious condo near by subway!",
          "Aconchegante Studio na Gloria",
          "Un cocon en plein coeur de Paris, ÃÂ®le Saint-Louis",
          "A PERFECT ROOM IN THE HEARTH OF THE CITY 401",
          "Loft Ã¢â¬ÅEl TejadoÃ¢â¬Â",
          "Resort style villa, quiet location, close to BEACH",
          "Apartment with one bedroom in Roma, with WiFi",
          "s",
          "Modern Designed Studio Flat with 360 Istanbul View",
          "Apto aconchegante, arejado,seguro e familiar.",
          "Double garden vÃÂ±ew 6",
          "\"Fish Pond\" centrally located studio with balcony",
          "Cozy Dbl Bed Private Room w/ Balcony @ ASA Hostel",
          "The best suite in Copacabana (total privacy)",
          "Deniz manzaralÃÂ±",
          "Flat near to eiffel tower",
          "365 SUNSETS Aloe luxury apartment sea views",
          "Beautiful Bondi by the Beach - 2br apartment",
          "Studio 1 BR. 1.5km Huai Khwang MRT. Gym",
          "Colette's home Trastevere",
          "Departamento de 2 Pisos con Terraza frente al WTC",
          "EminÃÂ¶nÃÂ¼nde merkezi yer her yere yakÃÂ±n ulaÃÅ¸m sornsz",
          "2 PiÃÂ¨ces calme et lumineux Buttes Chaumont",
          "Bright 2 Bedroom Apartment On The Beach",
          "Studio Renove 25m2 , cours privee",
          "5. Pink room near Castel Sant'Angelo",
          "MyPlace2Beach",
          "Modern Apartment in Liverpool CBD",
          "Cool private room/Sukumvit50,On Nut",
          "Lazer, Praticidade e Conforto",
          "Large Master Room in Share house",
          "Appartement 44mÃÂ² dans un havre de paix (20eme)",
          "24 on 3rd",
          "Bangkok cozy studio 150m to BTS free gym pool wifi",
          "Elite 3 Bedroom Family Residence 01",
          "Artsy, Sunny, Eclectic Two-Bedroom Paris Apartment",
          "Ferias em Copacabana",
          "Master",
          "Eden on the Bay Luxurious Beachfront Apartment",
          "Apartment is close to airport SAW (Sabiha Gokcen)",
          "All In One Room",
          "VERY CUTE&COZY FLAT W/TERRACE PANORAMIC SEA VIEW!!",
          "Private and quiet room by the beach",
          "Casa ampia e assolata al Pigneto.",
          "Sydney 5 Star home stay",
          "Big appartment 5 min walking from Montmartre",
          "Enjoy Sydney from our spacious, new apartment",
          "SPECIAL OFFER Spacious Ottoman style Apartment at the heart of everything.",
          "Studio avec vue sur Seine",
          "Perfect Loft great location",
          "Camps Bay modern sunny apartment with sea view",
          "Ã¢Ëâ¦  Under the roofs of Le Marais  Ã¢Ëâ¦",
          "Walk to everything in less than 10mins!",
          "Penthouse Studio, BlaauwVillage, Blouberg",
          "Apartment - Auteuil",
          "Unique loft in Manhattan-Film/photoshoots only",
          "Clean and comfortable place",
          "NICE LOFT OVER THE TOP!",
          "Loader A",
          "DOUBLE STUDIO",
          "You will be in a nice ,comfortable ,clean house.",
          "Female Dorm/BTS7 Min/Silom/Sathorn/Hostel/Brandnew",
          "3Br Cove at Hamilton Heights-Next to Subway",
          "AÃÅ¸va Piazza Otel  Standart Odalar - Sadece Oda",
          "ETOILE FOCH MAILLOT - FULL SERVICE RENOVATED FLAT",
          "Casa de hospedes no coracao da Urca",
          "Modern unit with outdoor space close to bus hub",
          "Cozy and comfortable private room.",
          "Luxury 2 bdrm Apt near Soho with huge patio",
          "Lovely flat Canal Saint Martin",
          "Xochimilco Hermosa Casa JardÃÂ­n cerca de Trajineras",
          "Peaceful Flat in Nisantasi",
          "Beautiful Apt Huge Terrace in Heart of Trastevere",
          "Rm3 near jordan station 1min",
          "Art Deco sunlit apartment in Champs-Ãâ°lysees",
          "Gordon Beauty",
          "Ã¦âºÂ¼Ã¨Â°Â·AmarantaÃ¤ÂºâÃ¦ËÅ¸Ã§ÂºÂ§Ã¥â¦Â¬Ã¥Â¯âÃ¥â¡ÂºÃ§Â§Å¸",
          "Spacious bedroom in Oversized Apt.",
          "Suite Roma loft style. High class for great guest",
          "3 Bedroom in Leblon. Same block from the beach !",
          "Charming Studio at Bastille 11th",
          "Penguin Cottage",
          "Ã¨Â¿âRama9Ã¨Â±ÂªÃ¥ÂÅ½Ã¥â¦Â¬Ã¥Â¯âÃ¥Â¥âÃ¦ËÂ¿Ã¥Â¸Â¦Ã©ËÂ³Ã¥ÂÂ°",
          "B & B PARA A COPA DO MUNDO",
          "Madison Ave 2 BR Penthouse, 3 Beds",
          "Petit studio trÃÂ¨s cosy tout confort - Paris 3ÃÂ¨me",
          "Appartement cosy prÃÂ¨s du Moulin Rouge",
          "Recamara completa con baÃÂ±o propio en sur de cdmx",
          "Bright sunny room with aircon and garden access",
          "BEACHFRONT Ã¢ÅÂ¸ Luxury Condominium in Sao Conrado",
          "Cappellari Suite 3",
          "Master room with free carpark and close to city",
          "Classic, Spacious Greenpoint Apartment",
          "2+1 house",
          "iFlat | Ponte Milvio Elegance and Light",
          "Habitacion Privada! Excelente Ubicacion!!",
          "Le cocon dans le 12 eme",
          "STUDIO BELLE ARTI",
          "Architect designed - Central Paris",
          "2 guests king-size bed in the heart of Montmartre",
          "Double Bedroom in Randwick/ Coogee",
          "nice and sunny room in Istanbul",
          "NICE APARTMENT IN ROME SAN GIOVANNI",
          "Private Room",
          "PARIS - 4 BEDS ROOM - Aparthotel",
          "SULTANAHMET STAY IVY SUITE 1 +1 FOR 4 PEOPLE",
          "Tasteful, spacious and sunny place, gorgeous Manhattan views!",
          "ModaÃ¢â¬â¢nin merkezinde konforlu, huzurlu daire",
          "Bright cosy place near the beach and facilities",
          "A Gem in Green Point",
          "Toulao, Studio/1BA, 3 people",
          "Private room available for summer",
          "Charming & Comfy in Annandale - 3",
          "Super peaceful flat in South Pigalle",
          "Entire new 4 bedroom house",
          "Montparnasse, Hotel de charme.",
          "Lucia Silveira",
          "Appartement de Charme 15 Arron - Convention",
          "Located at the heart of Manhattan",
          "Beau petit deux piÃÂ¨ces, en plein cÃâur d'Oberkampf",
          "Canape-lit dans salon - Bercy - Gare de Lyon",
          "Recamara doble para viajes de placer o negocios",
          "Duplex home in Historic Cobble Hill",
          "Luxurious, best location, spa inc'l",
          "Spacious apartment - 5 mins walk to Bondi Beach",
          "East Village Cottage 1 private room",
          "Nana bar/mrt/asoke/Train nightmarket/city Ã¢â¬â¹Ã¢â¬â¹center",
          "Bondi Beach best Sydney's area 20 m far to centre",
          "Mascot Meriton apartment master room for rent",
          "a charming room in the heart of Paris Montorgueil",
          "Villa Invictus",
          "Appartement calme prÃÂ¨s des Buttes Chaumont",
          "Vue Tour Eiffel 7ÃÂ¨me arrondissement",
          "Center Of ÃÅ¸iÃÅ¸li cozy apartment for Rent",
          "LARGE AND SUNNY STUDIO 45m2, WIFI",
          "Homely & Spacious Bondi Junction Apartment",
          "212  Apartment With Common Bathroom",
          "Waterloo living Rm",
          "Typical bright 2-rooms appartement near Montmartre",
          "Great apt WITH CAT-Spacious, Well located in Paris",
          "Private room with private bathroom and beachviews",
          "Hipodromo Sky high",
          "Appartamento Rina B",
          "3 Bedroom Apartment",
          "Appartement cosy et central",
          "JARDIN DE PAZ.",
          "3-bedroom suite check in 4pm out 1pm",
          "IncreÃÂ­bles vistas de CDMX y centrica ubicacion.",
          "Cabbage Tree Cottage  Palm Beach",
          "TOP FLOOR WITH TERRACES ON TRASTEVERE/PORTAPORTESE",
          "Luxury 3 bedroom Apartment in Paris",
          "Appartement Marche de l'Olive",
          "Near St. George hospital",
          "BEAUTIFUL APARTMENT IN BELLEVILLE",
          "Parisian sky is over the roof",
          "NEW FLAT IN THE CENTER OF PARIS FOR 4 ADULTS",
          "Excellent Apartment in copacabana-season",
          "Centrally Located Modern Apartment with Sea Views",
          "Apartamento com ÃÂrea Externa no Leblon",
          "Confortable habitacion en el sur de CDMX",
          "Piazza di Spagna&Castel S.Angelo - Lovely Flat x 4",
          "Lovely flat in the heart of Paris",
          "Amplia habitacion cerca de Ciudad Universitaria",
          "Private, artsy room steps from Prospect Park!!",
          "Ã¦âºÂ¼Ã¨Â°Â·Ã©Â»âÃ©â¡âÃ¥ÅÂ°Ã¦Â®ÂµasokÃ©â¢âÃ¨Â¿âÃ¯Â¼Åperfect homeÃ§â¹Â¬Ã¦Â â¹Ã¥ËÂ«Ã¥Â¢â¦",
          "Departamento a 10 minutos del metro Copilco",
          "Elegant flat near Termini Station",
          "En plein cÃâur de Montmartre/At MontmartreÃ¢â¬â¢s heart",
          "QUARTIBLE ROOM",
          "Exclusive Bondi Apartment BondiVIEW",
          "Mixed Dorm Bed#I/Wan Chai/close to MTR",
          "One Bedroom in the middle of Astoria",
          "Ap na Lapa perfeito para estadias prolongadas.",
          "Inner West Oasis",
          "Home sweet home",
          "bondi beach bespoke, an art deco apartment",
          "Chambre privee cosy - Au pied du Sacre-CÃâur",
          "No.5Ã¢â¬Â¢TH39Ã¢â¬Â¢ Safe & ventilated place, 8 mins to BTS",
          "Roman Holidays Hostel near Termini- Double Shared",
          "CHAMBRE NATION - COURTE DUREE",
          "Beau deux-piÃÂ¨ces ÃÂ  Paris (XIIIÃÂ¨me arrondissement)",
          "Lovely Appartment in Montmartre",
          "*New 2 Bedroom Bangkok City Remarkable Choice-BTS",
          "*** Small house near the EIFFEL TOWER ! ***",
          "Whole House for Big Group up to 30-35 persons !!",
          "Perfect West Village Apartment",
          "Central Location Taksim=15 dk Cevahir Mall=15 Dk",
          "Room For Rent in Curated Williamsburg Artist Loft",
          "Designer apartment on Riverside Dr-Upper West Side",
          "Typical Parisian Lifestyle Flat (65 m2)",
          "Charming flat - 11eme Paris",
          "Apt Design Rio - Copacabana",
          "Home of Eyupsultan/Istanbul",
          "Chambre dans appartement proche de la Tour Eiffel",
          "A Large Luxury Flat in Central Rome",
          "Smart Home in an Ultra - Modern Complex with Rooftop Garden",
          "Sunny Greenpoint Apartment Ã¢â¬â Quiet Street",
          "Appartement calme au cÃâur de Belleville",
          "Apartment near Central Park with breathtaking view",
          "Sunny City Escape",
          "Charming apartment, lovely Parisian experience",
          "Ã¢ÂÂ¤Ã¯Â¸Âof Ipanema 2Bd/2Ba Furnished AptÃ¢Ëâ 2min walk Beach",
          "Bright space with amazing view in trendy area",
          "Private, Clean & Convenient Room in Manhattan",
          "Chambre Privee - 16ÃÂ¨me arrondissement de Paris",
          "Stay Inn Taksim Hostel - 4bed deluxe dorm ensuite",
          "The pleasant place to stay",
          "ÃÂ£ÃÅ½ÃâÃÂ½ÃÂ°ÃÂ ÃÂ²ÃÂ¸ÃÂ»ÃÂ»ÃÂ°",
          "Appartement au cÃâur du Parc de Belleville",
          "SuÃÂ­te em Copacabana, posto 4",
          "Central Room Available  3/walkup  (ML3G)",
          "Ã£â¬Å½INNOGOÃ£â¬ÂÃ§Â½âÃ¦Â¹âÃ¥ÅÂ°Ã©âÂÃ§Â«â¢Ã¦âÂ/Ã¥â¦Â±Ã¤ÂºÂ«Ã¨Â®Â¾Ã¨Â®Â¡/Ã¦â¹ÂÃ¦ââÃ§Â©ÂºÃ©âÂ´/Ã©Â«ËÃ§Â«Â¯Ã¥â¢â Ã¥Å Â¡/Ã¥âÂÃ¨Â´Â¨Ã¥ÂÂ«Ã§âÅ¸Ã¤Â¿ÂÃ¨Â¯Â/Ã©ÆÂ½Ã¥Â¸âÃ©Â«ËÃ§ÂºÂ§Ã¦Â¦Â»Ã¦Â¦Â»Ã§Â±Â³",
          "A single room with furniture,  Zetland Ã¥Ââ¢Ã©âÂ´Ã¥Â¸Â¦Ã¥Â®Â¶Ã¥â¦Â·",
          "MASLAK1453 TERAS ORMAN VE ÃÅ¾EHÃÂ°R MANZARLI 1+0 DAÃÂ°RE",
          "Two Double Beds Near Central Park",
          "Alloggio Turistico",
          "Cuarto en Narvarte mas areas extra",
          "Paris - quiet & confortable studio",
          "30days!  Sukhumvit NANA spacious 1BR 2PPL near BTS",
          "Lapa, Cultura, Museus e Praias (Centro)",
          "Eastgate BKK @ BTS Green Line 23th(VII-26)",
          "Charmant petit deux piÃÂ¨ces",
          "Spacious & Light Shared Accommodation Camps Bay",
          "RIO CENTRO 2020",
          "Aroma Vaticano 1 - Appartamento Casa Vacanza",
          "Newly renovated!! (Tin Hau) Explore like local",
          "Letizia House - New management since Feb 2020",
          "Cozy Bedroom & Private Bath / Access to Amenities",
          "Classy, quality furnished residence-7/24 security",
          "Garden Flat",
          "Grey Luxury double room with balcony and pvt bath",
          "East Village Bedroom w/Roof Deck",
          "Flat 35 m2. Paris 10. Place Sainte Marthe",
          "Flaminio - Art, comfort and relax in Rome",
          "Appartement cosy Trocadero",
          "Joli 2 piÃÂ¨ces au bord du canal de l'ourcq",
          "Salvation in KurtuluÃÅ¸",
          "Self contained flatlet with a wonderful view",
          "Heart of Istanbul, Best Location Air-conditioned 1",
          "RoomWithsharedbathroomRome/OstiaNearAirport andSea",
          "Vatican City Cozy Apartment",
          "Temiz ve gÃÂ¼venilir bir misafirlik icin burdayÃÂ±z.",
          "NiÃÅ¸antaÃÅ¸ÃÂ± 2+1 Full Furnished Apartment",
          "Sublime apartment Center of Paris-Montorgueil",
          "Cozy bedroom in fast-paced central Brooklyn",
          "Bright And Cozy One Bedroom in Bonne Nouvelle",
          "Daniels nÃÂ°4/4 (Stanza personale 18Ã¢âÂ¬ la notte)",
          "A FULLY private FLOOR WITH 6 ROOMS FOR 12 PEOPLE",
          "SAPPHIRE, BEYOGLU PERA, GOLDEN HORN",
          "Trendy and spacious flat in the heart of Paris",
          "Frank Rooms&%&147/1",
          "ev",
          "Charming flat next to the Jardin des Plantes",
          "Little villa with garden&2 bedroom&near metro&wifi",
          "Lovely cottage in tranquil area close to amenities",
          "ItÃ¢â¬â¢s a beautiful, peaceful, quiet, comfortable",
          "Charming house in Parioli! NEW!!!",
          "Loft en Polanco-Lomas para Ejecutivos y Parejas",
          "Home away in the heart of old city 2 bedroom",
          "Amazing apartment - Bastille MOBILITY LEASE",
          "A little sanctuary by the beach",
          "Central to all amenities,  bus route & beach.",
          "Exquisite three bedroom flat in Kenilworth",
          "NEW! Francois et Valentin's Paris Apartment",
          "1 bedroom in Grand Manor House MONTHLY DISCOUNTS",
          "Stuyvesant Heights Loft like Apartment.",
          "Double Rm, mongkok 1min MTR, Speaks Eng/Ã¤Â¸Â­Ã¦ââ¡ 260",
          "View sea and lagoa in 2 peace bedrooms IPA",
          "BEST LOCATION IN ROME- superior room at A STAR INN",
          "Cute Room in Unforgettable Art Loft- Chelsea/Nomad",
          "Kalahari's Nest",
          "Apt in central Paris + catsitting",
          "studio",
          "Deluxe Loft Centro Historico",
          "NORTH RANDWICK Kemmis St: L'Abode Accommodation",
          "Cosy Cosy",
          "Entre parc et bassin",
          "Veranda Apartment - Lavender & Lace",
          "Calme et modernite au pied du Canal de l'Ourcq",
          "The Line Sukhumvit 71",
          "Linda habitacion 5km Centro Comercial  Santa Fe",
          "Private room  near Tiburtina station",
          "Llandudno Luxury Villa Horizon@32",
          "Superb apartment 15 min from Buttes Chaumont - Professional Cleaning",
          "Barra Da Tijuca Beach,great Condo!",
          "Lovely Single Room",
          "Quarto numa cobertura no recreio dos bandeirantes",
          "7 Mins walk to BTS,  close to King Power Rangnum",
          "#FIVE Deluxe Bedroom Suite In China Town",
          "Departamento a 3 minutos del Hospital Angeles P",
          "Casa razan",
          "Siam Journey Guesthouse Private Room @Pratunam",
          "A comfortable home close to City and North Sydney.",
          "63 m2 avec balcon meuble design",
          "Lovely Double Room next to the Central Station",
          "Neutral Bay Chic Apartment",
          "Small Studio in Perfect Location Close to CBD",
          "45 m2, 2 rooms, cosy, quiet, lively neighborhood",
          "Hermoso Loft en Casa en Coyoacan!",
          "Tam sana gÃÂ¶re Bioda var",
          "Little one Vatican House",
          "Liberty apartment near Colosseum, Monti district",
          "Wonderful / Lindo amplo clean apto - Vista Cristo",
          "Grande chambre, calme et confortable ÃÂ  Auteuil",
          "Chambre dans Appartement Paris Montmartre",
          "New Aircon! Spacious & Modern Walk to CBD",
          "Sunny Private Room in Brooklyn",
          "IPANEMA DESIGN",
          "Admire Table Mountain from an Apartment in Historical Centre",
          "blue room - termini station",
          "Master Bedroom in Amazing Location!",
          "Harbour Heights Place",
          "Marais. Atypical apt 4 people",
          "1 BEDROOM CONDO FOR RENT - BANGKOK",
          "Maison Parisienne @ Notre-Dame",
          "Charmant deux piÃÂ¨ces ÃÂ  Montmartre !",
          "Spacious Elegance @ 512 Rockwell Luxury Suites",
          "Cosy flat in Dee Why",
          "Modern ENTIRE apartment in Parramatta near station",
          "Appartement calme & lumineux ÃÂ  2m du PÃÂ¨re Lachaise",
          "Flat no melhor local de Ipanema",
          "Peaceful place, green suburb, pleasant stay",
          "Shoreham Hotel, Standard Queen",
          "Etoile-Monceau-ideal famille",
          "El Vergel del Sur",
          "Brand New appartment in Paris",
          "Stand alone 2 bedroom cottage",
          "Lindo 2 quartos no Leblon otima localizacao",
          "Large flat by canal Saint Martin. Trees & water!",
          "Nice apartment in the heart of Rome",
          "Le Merveilleux Studio ÃÂ  Paris",
          "Full furnished apartment in Cihangir. ...",
          "Double room in seaside village",
          "Boutique Home",
          "*NEW*  Taxim Square-- Luxury Room",
          "Lovely Langa Home",
          "Copacabana cobertura de 3 quartos a 200 metros da praia.. CAV F1137",
          "FUAREV LUX FLAT NEAR AIRPORT 84M2",
          "queen size mattress inliving room kowloon bayÃ¥Â®Â¢Ã¥Å½â¦",
          "CUTE VILLA, CLOSE TO SEAFRONT",
          "AMAZING ROOM / ARTISTIC STA TERESA",
          "Studio avec vue sur l'arriÃÂ¨re du sacre choeur",
          "Ispinas-02",
          "Rain Forest Paradise 3",
          "Double Room in modern apartment in Paris",
          "Beautiful flat for 6p near Place D'Italie",
          "Charming flat in Menilmontant",
          "NYMT60-1 LUXURY! Studio,Cozy,Gym,doorman st-6",
          "Villa Haziran",
          "Brooklyn New Private room in Ridgewood # 3",
          "Private 6 Bedroom (Entire Room)",
          "Appartamento con servizio di B&B uso eslusivo.",
          "DUMBO / Brooklyn Heights apartment with a view",
          "44 - Urban Pretty Flat in Montorgueil",
          "ESTUDIO Ã°Å¸âÂ NO  LEBLON",
          "PANORAMIC VIEW ON PARIS!!!",
          "ÃÅ¾ilede Huzur Dolu Bir Tatil ÃÂ°cin Havuzlu TaÃÅ¸ Villa",
          "TrÃÂ¨s bel appartement -Eiffel Tower &Champs de Mars",
          "Upper West Side Split Layout 1 BR",
          "Romance and magic in the historic Montmartre.",
          "Excelente suite de 74 m2 en Zona Rosa.",
          "Studio/Private room close to Coogee beach",
          "Appartement  27mÃÂ² dans belle cour interieure",
          "Charmant F3 ÃÂ  10 min de Montmartre",
          "River Luxury Suites- Double Standard",
          "2+1 BeylikdÃÂ¼zÃÂ¼ MetrobÃÂ¼se YÃÂ¼rÃÂ¼me Mesafesinde",
          "Parisian Family Flat 100mÃÂ² SoPi near Montmartre",
          "A poet's retreat in Mexico, a cozy home for you",
          "Private Bed and Bathroom in a Beautiful Apartment",
          "v1Ã¦âÂºÃ¨Â§âÃ¥ÅÂ°Ã©ÂÂµÃ¥â¦Â¬Ã¤ÂºÂ¤Ã¨Â¿âÃ¥ÅÂ¨Ã¥âÂ«Ã¥Â°Âº/Ã¨Â³Â¼Ã§â°Â©Ã©Â¦âÃ©ÂÂ¸/Ã§ÂÂ¨Ã§Â«â¹Ã¨Â¡âºÃ¦ÂµÂ´/Ã§Â²Â¾Ã¨Â£ÂÃ¤Â¿Â®Ã¤Â¹Â¾Ã¦Â·Â¨Ã¨ËâÃ©ÂÂ©Ã©âºâ¢Ã¤ÂºÂºÃ¦ËÂ¿",
          "Big furnished bedroom Williamsburg",
          "Casa Condo, 35 sqm,  150 M from BTS",
          "Residencia Lindavista 3",
          "Beautiful Cape Town House with Incredible Views",
          "Newly reno Prime Upper East ~W/D in unit~ Elevator",
          "Spacious and Luxury Flat near the Vatican and St. Peter",
          "Bright, Stylish Terrace House",
          "Centrally located and recently renovated flat",
          "Louvre, Chatelet, Palais-Royal, Pompidou",
          "Superior Suite Three Bedrooms At Ultimo",
          "10mins to Manhattan Times Square",
          "Apartamento proximo metro uruguai",
          "Beach Pad w/ Sunny Private Garden",
          "Hotel only 5 minutes from MRT Sutthisan",
          "Depa 23 completo roma/Condesa",
          "Stuyvesant hills",
          "Camarim conforto mais praticidade no Leblon",
          "Art Deco Charm Near Harbour",
          "Dpto priv REFORMA JUAREZ CONDESA ROMA",
          "Apartamento aconchegante no Flamengo",
          "A Roma da AlbertinaÃ¢â¬â¢s House!! TrastevereÃ¢â¢Â¥Ã¯Â¸Â",
          "Bonito, iluminado e bem arejado",
          "Ã Â¸âÃ Â¸Â­Ã Â¸â¢Ã Â¹âÃ Â¸âÃ Â¸Â¡Ã Â¸ÂµÃ Â¹â¬Ã Â¸â¢Ã Â¸ÂµÃ Â¸Â¢Ã Â¸Â¡Ã Â¸Â¨Ã Â¸Â¸Ã Â¸Â Ã Â¸Â²Ã Â¸Â¥Ã Â¸Â±Ã Â¸Â¢ Ã Â¸âºÃ Â¸Â²Ã Â¸Â£Ã Â¹ÅÃ Â¸â",
          "Easy access to Manhattan : Nice Condition room",
          "1+1 Residence in the best location",
          "Cozy 1 bedroom apartment in trendy Bushwick.",
          "Maison, 100 m2, et jardin ÃÂ  Paris",
          "Cozy Room by  Lincoln Hospital and Yankee Stadium.",
          "Paris Tour Eiffel Grande Terrasse - Renovated 2016",
          "New(2015) Room & easy commute to Manhattan 35min",
          "Spectacular Studio apt. Greenwich Village.",
          "Small room in an excellent area",
          "Great deal in Mid-Levels!",
          "Sloth Room with Gourmet Buffet Breakfast",
          "Room at a GREAT PRICE and LOCATION Col. Roma",
          "Ã¢Ëâ Family 2BR Ã¢Ëâ  with 130 sq.m / 300m. to BTS Ekkamai",
          "Available 23rd-28th March",
          "Easy cosy room, 2-3 person, near BTS, DMK airport",
          "Private BR in South Harlem close to 2/3",
          "Bedroom",
          "Central, clean and spacious apartment",
          "Cobertura 1,9 km Parque OlÃÂ­mpico RJ",
          "Spacious 2bedroom at Sathorn Bangkok",
          "Shanti Lodge.  Art House. Traditional Room",
          "Apartamento charmoso em Laranjeiras",
          "Charmant appart",
          "Entire 1400 sq ft Artist Loft - FOUR Private Rooms",
          "Parramatta Great  room",
          "Bedroom in Shared-apartment, Next To Time Square!!",
          "A modern condo. Rama 9 road Near RCA. Night life.",
          "Ã¦Åâ°Ã¦ËâÃ¤Â»Â¬Ã¤Â½Â Ã¤Â¸ÂÃ§âÂ¨Ã¦â¹â¦Ã¥Â¿Æ",
          "Premium River Front Living"
         ],
         "lat": {
          "bdata": "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",
          "dtype": "f8"
         },
         "legendgroup": "",
         "lon": {
          "bdata": "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",
          "dtype": "f8"
         },
         "marker": {
          "color": {
           "bdata": "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",
           "dtype": "f8"
          },
          "coloraxis": "coloraxis"
         },
         "mode": "markers",
         "name": "",
         "showlegend": false,
         "subplot": "map",
         "type": "scattermap"
        }
       ],
       "layout": {
        "coloraxis": {
         "colorbar": {
          "title": {
           "text": "price"
          }
         },
         "colorscale": [
          [
           0,
           "#000011"
          ],
          [
           0.1111111111111111,
           "#000012"
          ],
          [
           0.2222222222222222,
           "#000013"
          ],
          [
           0.3333333333333333,
           "#000014"
          ],
          [
           0.4444444444444444,
           "#000015"
          ],
          [
           0.5555555555555556,
           "#000016"
          ],
          [
           0.6666666666666666,
           "#000017"
          ],
          [
           0.7777777777777778,
           "#000018"
          ],
          [
           0.8888888888888888,
           "#000019"
          ],
          [
           1,
           "#000020"
          ]
         ]
        },
        "legend": {
         "tracegroupgap": 0
        },
        "map": {
         "center": {
          "lat": 18.8227562,
          "lon": 16.31490256
         },
         "domain": {
          "x": [
           0,
           1
          ],
          "y": [
           0,
           1
          ]
         },
         "style": "carto-positron",
         "zoom": 10
        },
        "mapbox": {
         "center": {
          "lat": 18.8227562,
          "lon": 16.31490256
         },
         "style": "carto-positron",
         "zoom": 10
        },
        "margin": {
         "t": 60
        },
        "template": {
         "data": {
          "candlestick": [
           {
            "decreasing": {
             "line": {
              "color": "#000033"
             }
            },
            "increasing": {
             "line": {
              "color": "#000032"
             }
            },
            "type": "candlestick"
           }
          ],
          "contour": [
           {
            "colorscale": [
             [
              0,
              "#000011"
             ],
             [
              0.1111111111111111,
              "#000012"
             ],
             [
              0.2222222222222222,
              "#000013"
             ],
             [
              0.3333333333333333,
              "#000014"
             ],
             [
              0.4444444444444444,
              "#000015"
             ],
             [
              0.5555555555555556,
              "#000016"
             ],
             [
              0.6666666666666666,
              "#000017"
             ],
             [
              0.7777777777777778,
              "#000018"
             ],
             [
              0.8888888888888888,
              "#000019"
             ],
             [
              1,
              "#000020"
             ]
            ],
            "type": "contour"
           }
          ],
          "contourcarpet": [
           {
            "colorscale": [
             [
              0,
              "#000011"
             ],
             [
              0.1111111111111111,
              "#000012"
             ],
             [
              0.2222222222222222,
              "#000013"
             ],
             [
              0.3333333333333333,
              "#000014"
             ],
             [
              0.4444444444444444,
              "#000015"
             ],
             [
              0.5555555555555556,
              "#000016"
             ],
             [
              0.6666666666666666,
              "#000017"
             ],
             [
              0.7777777777777778,
              "#000018"
             ],
             [
              0.8888888888888888,
              "#000019"
             ],
             [
              1,
              "#000020"
             ]
            ],
            "type": "contourcarpet"
           }
          ],
          "heatmap": [
           {
            "colorscale": [
             [
              0,
              "#000011"
             ],
             [
              0.1111111111111111,
              "#000012"
             ],
             [
              0.2222222222222222,
              "#000013"
             ],
             [
              0.3333333333333333,
              "#000014"
             ],
             [
              0.4444444444444444,
              "#000015"
             ],
             [
              0.5555555555555556,
              "#000016"
             ],
             [
              0.6666666666666666,
              "#000017"
             ],
             [
              0.7777777777777778,
              "#000018"
             ],
             [
              0.8888888888888888,
              "#000019"
             ],
             [
              1,
              "#000020"
             ]
            ],
            "type": "heatmap"
           }
          ],
          "histogram2d": [
           {
            "colorscale": [
             [
              0,
              "#000011"
             ],
             [
              0.1111111111111111,
              "#000012"
             ],
             [
              0.2222222222222222,
              "#000013"
             ],
             [
              0.3333333333333333,
              "#000014"
             ],
             [
              0.4444444444444444,
              "#000015"
             ],
             [
              0.5555555555555556,
              "#000016"
             ],
             [
              0.6666666666666666,
              "#000017"
             ],
             [
              0.7777777777777778,
              "#000018"
             ],
             [
              0.8888888888888888,
              "#000019"
             ],
             [
              1,
              "#000020"
             ]
            ],
            "type": "histogram2d"
           }
          ],
          "icicle": [
           {
            "textfont": {
             "color": "white"
            },
            "type": "icicle"
           }
          ],
          "sankey": [
           {
            "textfont": {
             "color": "#000036"
            },
            "type": "sankey"
           }
          ],
          "scatter": [
           {
            "marker": {
             "line": {
              "width": 0
             }
            },
            "type": "scatter"
           }
          ],
          "table": [
           {
            "cells": {
             "fill": {
              "color": "#000038"
             },
             "font": {
              "color": "#000037"
             },
             "line": {
              "color": "#000039"
             }
            },
            "header": {
             "fill": {
              "color": "#000040"
             },
             "font": {
              "color": "#000036"
             },
             "line": {
              "color": "#000039"
             }
            },
            "type": "table"
           }
          ],
          "waterfall": [
           {
            "connector": {
             "line": {
              "color": "#000036",
              "width": 2
             }
            },
            "decreasing": {
             "marker": {
              "color": "#000033"
             }
            },
            "increasing": {
             "marker": {
              "color": "#000032"
             }
            },
            "totals": {
             "marker": {
              "color": "#000034"
             }
            },
            "type": "waterfall"
           }
          ]
         },
         "layout": {
          "coloraxis": {
           "colorscale": [
            [
             0,
             "#000011"
            ],
            [
             0.1111111111111111,
             "#000012"
            ],
            [
             0.2222222222222222,
             "#000013"
            ],
            [
             0.3333333333333333,
             "#000014"
            ],
            [
             0.4444444444444444,
             "#000015"
            ],
            [
             0.5555555555555556,
             "#000016"
            ],
            [
             0.6666666666666666,
             "#000017"
            ],
            [
             0.7777777777777778,
             "#000018"
            ],
            [
             0.8888888888888888,
             "#000019"
            ],
            [
             1,
             "#000020"
            ]
           ]
          },
          "colorscale": {
           "diverging": [
            [
             0,
             "#000021"
            ],
            [
             0.1,
             "#000022"
            ],
            [
             0.2,
             "#000023"
            ],
            [
             0.3,
             "#000024"
            ],
            [
             0.4,
             "#000025"
            ],
            [
             0.5,
             "#000026"
            ],
            [
             0.6,
             "#000027"
            ],
            [
             0.7,
             "#000028"
            ],
            [
             0.8,
             "#000029"
            ],
            [
             0.9,
             "#000030"
            ],
            [
             1,
             "#000031"
            ]
           ],
           "sequential": [
            [
             0,
             "#000011"
            ],
            [
             0.1111111111111111,
             "#000012"
            ],
            [
             0.2222222222222222,
             "#000013"
            ],
            [
             0.3333333333333333,
             "#000014"
            ],
            [
             0.4444444444444444,
             "#000015"
            ],
            [
             0.5555555555555556,
             "#000016"
            ],
            [
             0.6666666666666666,
             "#000017"
            ],
            [
             0.7777777777777778,
             "#000018"
            ],
            [
             0.8888888888888888,
             "#000019"
            ],
            [
             1,
             "#000020"
            ]
           ],
           "sequentialminus": [
            [
             0,
             "#000011"
            ],
            [
             0.1111111111111111,
             "#000012"
            ],
            [
             0.2222222222222222,
             "#000013"
            ],
            [
             0.3333333333333333,
             "#000014"
            ],
            [
             0.4444444444444444,
             "#000015"
            ],
            [
             0.5555555555555556,
             "#000016"
            ],
            [
             0.6666666666666666,
             "#000017"
            ],
            [
             0.7777777777777778,
             "#000018"
            ],
            [
             0.8888888888888888,
             "#000019"
            ],
            [
             1,
             "#000020"
            ]
           ]
          },
          "colorway": [
           "#000001",
           "#000002",
           "#000003",
           "#000004",
           "#000005",
           "#000006",
           "#000007",
           "#000008",
           "#000009",
           "#000010"
          ]
         }
        }
       }
      }
     },
     "metadata": {},
     "output_type": "display_data"
    }
   ],
   "source": [
    "import plotly.express as px\n",
    "fig = px.scatter_map(\n",
    "    df.sample(500),\n",
    "    lat='latitude',\n",
    "    lon='longitude',\n",
    "    color='price',\n",
    "    hover_name='name',\n",
    "    zoom=10,\n",
    "    map_style='carto-positron'  # corrected style\n",
    ")\n",
    "\n",
    "fig.show()"
   ]
  },
  {
   "cell_type": "code",
   "execution_count": null,
   "id": "6d80d184",
   "metadata": {},
   "outputs": [
    {
     "ename": "ValueError",
     "evalue": "could not convert string to float: 'Buttes-Montmartre'",
     "output_type": "error",
     "traceback": [
      "\u001b[31m---------------------------------------------------------------------------\u001b[39m",
      "\u001b[31mValueError\u001b[39m                                Traceback (most recent call last)",
      "\u001b[32m~\\AppData\\Local\\Temp\\ipykernel_9564\\406462902.py\u001b[39m in \u001b[36m?\u001b[39m\u001b[34m()\u001b[39m\n\u001b[32m      1\u001b[39m \u001b[38;5;28;01mfrom\u001b[39;00m sklearn.preprocessing \u001b[38;5;28;01mimport\u001b[39;00m StandardScaler\n\u001b[32m      2\u001b[39m \u001b[38;5;28;01mfrom\u001b[39;00m sklearn.cluster \u001b[38;5;28;01mimport\u001b[39;00m KMeans\n\u001b[32m      3\u001b[39m \n\u001b[32m      4\u001b[39m features = df[[\u001b[33m'price'\u001b[39m, \u001b[33m'minimum_nights'\u001b[39m, \u001b[33m'bedrooms'\u001b[39m, \u001b[33m'accommodates'\u001b[39m, \u001b[33m'review_scores_rating'\u001b[39m, \u001b[33m'review_scores_cleanliness'\u001b[39m, \u001b[33m'neighbourhood'\u001b[39m, \u001b[33m'room_type'\u001b[39m]]\n\u001b[32m----> \u001b[39m\u001b[32m5\u001b[39m features_scaled = StandardScaler().fit_transform(features)\n",
      "\u001b[32mc:\\Users\\USER\\.conda\\envs\\airenv\\Lib\\site-packages\\sklearn\\utils\\_set_output.py\u001b[39m in \u001b[36m?\u001b[39m\u001b[34m(self, X, *args, **kwargs)\u001b[39m\n\u001b[32m    317\u001b[39m     @wraps(f)\n\u001b[32m    318\u001b[39m     \u001b[38;5;28;01mdef\u001b[39;00m wrapped(self, X, *args, **kwargs):\n\u001b[32m--> \u001b[39m\u001b[32m319\u001b[39m         data_to_wrap = f(self, X, *args, **kwargs)\n\u001b[32m    320\u001b[39m         \u001b[38;5;28;01mif\u001b[39;00m isinstance(data_to_wrap, tuple):\n\u001b[32m    321\u001b[39m             \u001b[38;5;66;03m# only wrap the first output for cross decomposition\u001b[39;00m\n\u001b[32m    322\u001b[39m             return_tuple = (\n",
      "\u001b[32mc:\\Users\\USER\\.conda\\envs\\airenv\\Lib\\site-packages\\sklearn\\base.py\u001b[39m in \u001b[36m?\u001b[39m\u001b[34m(self, X, y, **fit_params)\u001b[39m\n\u001b[32m    914\u001b[39m                 )\n\u001b[32m    915\u001b[39m \n\u001b[32m    916\u001b[39m         \u001b[38;5;28;01mif\u001b[39;00m y \u001b[38;5;28;01mis\u001b[39;00m \u001b[38;5;28;01mNone\u001b[39;00m:\n\u001b[32m    917\u001b[39m             \u001b[38;5;66;03m# fit method of arity 1 (unsupervised transformation)\u001b[39;00m\n\u001b[32m--> \u001b[39m\u001b[32m918\u001b[39m             \u001b[38;5;28;01mreturn\u001b[39;00m self.fit(X, **fit_params).transform(X)\n\u001b[32m    919\u001b[39m         \u001b[38;5;28;01melse\u001b[39;00m:\n\u001b[32m    920\u001b[39m             \u001b[38;5;66;03m# fit method of arity 2 (supervised transformation)\u001b[39;00m\n\u001b[32m    921\u001b[39m             \u001b[38;5;28;01mreturn\u001b[39;00m self.fit(X, y, **fit_params).transform(X)\n",
      "\u001b[32mc:\\Users\\USER\\.conda\\envs\\airenv\\Lib\\site-packages\\sklearn\\preprocessing\\_data.py\u001b[39m in \u001b[36m?\u001b[39m\u001b[34m(self, X, y, sample_weight)\u001b[39m\n\u001b[32m    890\u001b[39m             Fitted scaler.\n\u001b[32m    891\u001b[39m         \"\"\"\n\u001b[32m    892\u001b[39m         \u001b[38;5;66;03m# Reset internal state before fitting\u001b[39;00m\n\u001b[32m    893\u001b[39m         self._reset()\n\u001b[32m--> \u001b[39m\u001b[32m894\u001b[39m         \u001b[38;5;28;01mreturn\u001b[39;00m self.partial_fit(X, y, sample_weight)\n",
      "\u001b[32mc:\\Users\\USER\\.conda\\envs\\airenv\\Lib\\site-packages\\sklearn\\base.py\u001b[39m in \u001b[36m?\u001b[39m\u001b[34m(estimator, *args, **kwargs)\u001b[39m\n\u001b[32m   1385\u001b[39m                 skip_parameter_validation=(\n\u001b[32m   1386\u001b[39m                     prefer_skip_nested_validation \u001b[38;5;28;01mor\u001b[39;00m global_skip_validation\n\u001b[32m   1387\u001b[39m                 )\n\u001b[32m   1388\u001b[39m             ):\n\u001b[32m-> \u001b[39m\u001b[32m1389\u001b[39m                 \u001b[38;5;28;01mreturn\u001b[39;00m fit_method(estimator, *args, **kwargs)\n",
      "\u001b[32mc:\\Users\\USER\\.conda\\envs\\airenv\\Lib\\site-packages\\sklearn\\preprocessing\\_data.py\u001b[39m in \u001b[36m?\u001b[39m\u001b[34m(self, X, y, sample_weight)\u001b[39m\n\u001b[32m    926\u001b[39m         self : object\n\u001b[32m    927\u001b[39m             Fitted scaler.\n\u001b[32m    928\u001b[39m         \"\"\"\n\u001b[32m    929\u001b[39m         first_call = \u001b[38;5;28;01mnot\u001b[39;00m hasattr(self, \u001b[33m\"n_samples_seen_\"\u001b[39m)\n\u001b[32m--> \u001b[39m\u001b[32m930\u001b[39m         X = validate_data(\n\u001b[32m    931\u001b[39m             self,\n\u001b[32m    932\u001b[39m             X,\n\u001b[32m    933\u001b[39m             accept_sparse=(\u001b[33m\"csr\"\u001b[39m, \u001b[33m\"csc\"\u001b[39m),\n",
      "\u001b[32mc:\\Users\\USER\\.conda\\envs\\airenv\\Lib\\site-packages\\sklearn\\utils\\validation.py\u001b[39m in \u001b[36m?\u001b[39m\u001b[34m(_estimator, X, y, reset, validate_separately, skip_check_array, **check_params)\u001b[39m\n\u001b[32m   2940\u001b[39m             out = y\n\u001b[32m   2941\u001b[39m         \u001b[38;5;28;01melse\u001b[39;00m:\n\u001b[32m   2942\u001b[39m             out = X, y\n\u001b[32m   2943\u001b[39m     \u001b[38;5;28;01melif\u001b[39;00m \u001b[38;5;28;01mnot\u001b[39;00m no_val_X \u001b[38;5;28;01mand\u001b[39;00m no_val_y:\n\u001b[32m-> \u001b[39m\u001b[32m2944\u001b[39m         out = check_array(X, input_name=\u001b[33m\"X\"\u001b[39m, **check_params)\n\u001b[32m   2945\u001b[39m     \u001b[38;5;28;01melif\u001b[39;00m no_val_X \u001b[38;5;28;01mand\u001b[39;00m \u001b[38;5;28;01mnot\u001b[39;00m no_val_y:\n\u001b[32m   2946\u001b[39m         out = _check_y(y, **check_params)\n\u001b[32m   2947\u001b[39m     \u001b[38;5;28;01melse\u001b[39;00m:\n",
      "\u001b[32mc:\\Users\\USER\\.conda\\envs\\airenv\\Lib\\site-packages\\sklearn\\utils\\validation.py\u001b[39m in \u001b[36m?\u001b[39m\u001b[34m(array, accept_sparse, accept_large_sparse, dtype, order, copy, force_writeable, force_all_finite, ensure_all_finite, ensure_non_negative, ensure_2d, allow_nd, ensure_min_samples, ensure_min_features, estimator, input_name)\u001b[39m\n\u001b[32m   1052\u001b[39m                         )\n\u001b[32m   1053\u001b[39m                     array = xp.astype(array, dtype, copy=\u001b[38;5;28;01mFalse\u001b[39;00m)\n\u001b[32m   1054\u001b[39m                 \u001b[38;5;28;01melse\u001b[39;00m:\n\u001b[32m   1055\u001b[39m                     array = _asarray_with_order(array, order=order, dtype=dtype, xp=xp)\n\u001b[32m-> \u001b[39m\u001b[32m1056\u001b[39m             \u001b[38;5;28;01mexcept\u001b[39;00m ComplexWarning \u001b[38;5;28;01mas\u001b[39;00m complex_warning:\n\u001b[32m   1057\u001b[39m                 raise ValueError(\n\u001b[32m   1058\u001b[39m                     \u001b[33m\"Complex data not supported\\n{}\\n\"\u001b[39m.format(array)\n\u001b[32m   1059\u001b[39m                 ) \u001b[38;5;28;01mfrom\u001b[39;00m complex_warning\n",
      "\u001b[32mc:\\Users\\USER\\.conda\\envs\\airenv\\Lib\\site-packages\\sklearn\\utils\\_array_api.py\u001b[39m in \u001b[36m?\u001b[39m\u001b[34m(array, dtype, order, copy, xp, device)\u001b[39m\n\u001b[32m    835\u001b[39m         \u001b[38;5;66;03m# Use NumPy API to support order\u001b[39;00m\n\u001b[32m    836\u001b[39m         \u001b[38;5;28;01mif\u001b[39;00m copy \u001b[38;5;28;01mis\u001b[39;00m \u001b[38;5;28;01mTrue\u001b[39;00m:\n\u001b[32m    837\u001b[39m             array = numpy.array(array, order=order, dtype=dtype)\n\u001b[32m    838\u001b[39m         \u001b[38;5;28;01melse\u001b[39;00m:\n\u001b[32m--> \u001b[39m\u001b[32m839\u001b[39m             array = numpy.asarray(array, order=order, dtype=dtype)\n\u001b[32m    840\u001b[39m \n\u001b[32m    841\u001b[39m         \u001b[38;5;66;03m# At this point array is a NumPy ndarray. We convert it to an array\u001b[39;00m\n\u001b[32m    842\u001b[39m         \u001b[38;5;66;03m# container that is consistent with the input's namespace.\u001b[39;00m\n",
      "\u001b[32m~\\AppData\\Roaming\\Python\\Python313\\site-packages\\pandas\\core\\generic.py\u001b[39m in \u001b[36m?\u001b[39m\u001b[34m(self, dtype, copy)\u001b[39m\n\u001b[32m   2149\u001b[39m     def __array__(\n\u001b[32m   2150\u001b[39m         self, dtype: npt.DTypeLike | \u001b[38;5;28;01mNone\u001b[39;00m = \u001b[38;5;28;01mNone\u001b[39;00m, copy: bool_t | \u001b[38;5;28;01mNone\u001b[39;00m = \u001b[38;5;28;01mNone\u001b[39;00m\n\u001b[32m   2151\u001b[39m     ) -> np.ndarray:\n\u001b[32m   2152\u001b[39m         values = self._values\n\u001b[32m-> \u001b[39m\u001b[32m2153\u001b[39m         arr = np.asarray(values, dtype=dtype)\n\u001b[32m   2154\u001b[39m         if (\n\u001b[32m   2155\u001b[39m             astype_is_view(values.dtype, arr.dtype)\n\u001b[32m   2156\u001b[39m             \u001b[38;5;28;01mand\u001b[39;00m using_copy_on_write()\n",
      "\u001b[31mValueError\u001b[39m: could not convert string to float: 'Buttes-Montmartre'"
     ]
    }
   ],
   "source": []
  },
  {
   "cell_type": "code",
   "execution_count": null,
   "id": "b1b277e9",
   "metadata": {},
   "outputs": [],
   "source": []
  }
 ],
 "metadata": {
  "kernelspec": {
   "display_name": "Python 3",
   "language": "python",
   "name": "python3"
  },
  "language_info": {
   "codemirror_mode": {
    "name": "ipython",
    "version": 3
   },
   "file_extension": ".py",
   "mimetype": "text/x-python",
   "name": "python",
   "nbconvert_exporter": "python",
   "pygments_lexer": "ipython3",
   "version": "3.13.2"
  }
 },
 "nbformat": 4,
 "nbformat_minor": 5
}
